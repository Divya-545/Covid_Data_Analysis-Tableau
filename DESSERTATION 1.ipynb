{
 "cells": [
  {
   "cell_type": "code",
   "execution_count": 3,
   "id": "e4158077",
   "metadata": {},
   "outputs": [],
   "source": [
    "import numpy as np\n",
    "import pandas as pd\n",
    "import matplotlib.pyplot as plt\n",
    "import seaborn as sns\n",
    "from scipy import stats\n",
    "import ast\n",
    "from sklearn.model_selection import train_test_split\n",
    "from sklearn.linear_model import LinearRegression\n",
    "from sklearn.metrics import mean_absolute_error, mean_squared_error, r2_score\n",
    "from sklearn.preprocessing import OneHotEncoder, StandardScaler\n",
    "from sklearn.linear_model import LinearRegression, Ridge, Lasso\n",
    "from sklearn.tree import DecisionTreeRegressor\n",
    "from sklearn.ensemble import RandomForestRegressor, GradientBoostingRegressor"
   ]
  },
  {
   "cell_type": "code",
   "execution_count": 4,
   "id": "f2242f0a",
   "metadata": {},
   "outputs": [
    {
     "data": {
      "text/html": [
       "<div>\n",
       "<style scoped>\n",
       "    .dataframe tbody tr th:only-of-type {\n",
       "        vertical-align: middle;\n",
       "    }\n",
       "\n",
       "    .dataframe tbody tr th {\n",
       "        vertical-align: top;\n",
       "    }\n",
       "\n",
       "    .dataframe thead th {\n",
       "        text-align: right;\n",
       "    }\n",
       "</style>\n",
       "<table border=\"1\" class=\"dataframe\">\n",
       "  <thead>\n",
       "    <tr style=\"text-align: right;\">\n",
       "      <th></th>\n",
       "      <th>area_type</th>\n",
       "      <th>area_name</th>\n",
       "      <th>area_code</th>\n",
       "      <th>date</th>\n",
       "      <th>new_cases_by_publish_date</th>\n",
       "      <th>cum_cases_by_publish_date</th>\n",
       "      <th>cum_cases_by_publish_date_rate</th>\n",
       "      <th>new_cases_by_specimen_date</th>\n",
       "      <th>cum_cases_by_specimen_date</th>\n",
       "      <th>cum_cases_by_specimen_date_rate</th>\n",
       "      <th>...</th>\n",
       "      <th>cum_deaths_28_days_by_publish_date_rate</th>\n",
       "      <th>new_deaths_28_days_by_death_date</th>\n",
       "      <th>cum_deaths_28_days_by_death_date</th>\n",
       "      <th>cum_deaths_28_days_by_death_date_rate</th>\n",
       "      <th>new_people_vaccinated_first_dose_by_publish_date</th>\n",
       "      <th>new_people_vaccinated_second_dose_by_publish_date</th>\n",
       "      <th>cum_people_vaccinated_first_dose_by_publish_date</th>\n",
       "      <th>cum_people_vaccinated_second_dose_by_publish_date</th>\n",
       "      <th>new_people_vaccinated_third_injection_by_publish_date</th>\n",
       "      <th>cum_people_vaccinated_third_injection_by_publish_date</th>\n",
       "    </tr>\n",
       "  </thead>\n",
       "  <tbody>\n",
       "    <tr>\n",
       "      <th>0</th>\n",
       "      <td>nation</td>\n",
       "      <td>England</td>\n",
       "      <td>E92000001</td>\n",
       "      <td>25-02-2022</td>\n",
       "      <td>23526.0</td>\n",
       "      <td>15998983.0</td>\n",
       "      <td>28291.7</td>\n",
       "      <td>NaN</td>\n",
       "      <td>NaN</td>\n",
       "      <td>NaN</td>\n",
       "      <td>...</td>\n",
       "      <td>248.3</td>\n",
       "      <td>NaN</td>\n",
       "      <td>NaN</td>\n",
       "      <td>NaN</td>\n",
       "      <td>NaN</td>\n",
       "      <td>NaN</td>\n",
       "      <td>NaN</td>\n",
       "      <td>NaN</td>\n",
       "      <td>NaN</td>\n",
       "      <td>NaN</td>\n",
       "    </tr>\n",
       "    <tr>\n",
       "      <th>1</th>\n",
       "      <td>nation</td>\n",
       "      <td>England</td>\n",
       "      <td>E92000001</td>\n",
       "      <td>24-02-2022</td>\n",
       "      <td>28193.0</td>\n",
       "      <td>15975718.0</td>\n",
       "      <td>28250.5</td>\n",
       "      <td>11855.0</td>\n",
       "      <td>15998983.0</td>\n",
       "      <td>28291.7</td>\n",
       "      <td>...</td>\n",
       "      <td>248.1</td>\n",
       "      <td>14.0</td>\n",
       "      <td>140392.0</td>\n",
       "      <td>248.3</td>\n",
       "      <td>7066.0</td>\n",
       "      <td>14301.0</td>\n",
       "      <td>44233366.0</td>\n",
       "      <td>41092655.0</td>\n",
       "      <td>19624.0</td>\n",
       "      <td>31783653.0</td>\n",
       "    </tr>\n",
       "    <tr>\n",
       "      <th>2</th>\n",
       "      <td>nation</td>\n",
       "      <td>England</td>\n",
       "      <td>E92000001</td>\n",
       "      <td>23-02-2022</td>\n",
       "      <td>29703.0</td>\n",
       "      <td>15947871.0</td>\n",
       "      <td>28201.3</td>\n",
       "      <td>24560.0</td>\n",
       "      <td>15987128.0</td>\n",
       "      <td>28270.7</td>\n",
       "      <td>...</td>\n",
       "      <td>247.9</td>\n",
       "      <td>35.0</td>\n",
       "      <td>140378.0</td>\n",
       "      <td>248.2</td>\n",
       "      <td>8063.0</td>\n",
       "      <td>16271.0</td>\n",
       "      <td>44226300.0</td>\n",
       "      <td>41078354.0</td>\n",
       "      <td>21184.0</td>\n",
       "      <td>31764029.0</td>\n",
       "    </tr>\n",
       "    <tr>\n",
       "      <th>3</th>\n",
       "      <td>nation</td>\n",
       "      <td>England</td>\n",
       "      <td>E92000001</td>\n",
       "      <td>22-02-2022</td>\n",
       "      <td>30080.0</td>\n",
       "      <td>15918472.0</td>\n",
       "      <td>28149.3</td>\n",
       "      <td>27505.0</td>\n",
       "      <td>15962568.0</td>\n",
       "      <td>28227.3</td>\n",
       "      <td>...</td>\n",
       "      <td>247.7</td>\n",
       "      <td>65.0</td>\n",
       "      <td>140343.0</td>\n",
       "      <td>248.2</td>\n",
       "      <td>7503.0</td>\n",
       "      <td>16106.0</td>\n",
       "      <td>44218237.0</td>\n",
       "      <td>41062083.0</td>\n",
       "      <td>21337.0</td>\n",
       "      <td>31742845.0</td>\n",
       "    </tr>\n",
       "    <tr>\n",
       "      <th>4</th>\n",
       "      <td>nation</td>\n",
       "      <td>England</td>\n",
       "      <td>E92000001</td>\n",
       "      <td>21-02-2022</td>\n",
       "      <td>29753.0</td>\n",
       "      <td>15888557.0</td>\n",
       "      <td>28096.4</td>\n",
       "      <td>32843.0</td>\n",
       "      <td>15935063.0</td>\n",
       "      <td>28178.6</td>\n",
       "      <td>...</td>\n",
       "      <td>247.4</td>\n",
       "      <td>68.0</td>\n",
       "      <td>140278.0</td>\n",
       "      <td>248.1</td>\n",
       "      <td>6376.0</td>\n",
       "      <td>14421.0</td>\n",
       "      <td>44210734.0</td>\n",
       "      <td>41045977.0</td>\n",
       "      <td>19416.0</td>\n",
       "      <td>31721508.0</td>\n",
       "    </tr>\n",
       "  </tbody>\n",
       "</table>\n",
       "<p>5 rows × 37 columns</p>\n",
       "</div>"
      ],
      "text/plain": [
       "  area_type area_name  area_code        date  new_cases_by_publish_date  \\\n",
       "0    nation   England  E92000001  25-02-2022                    23526.0   \n",
       "1    nation   England  E92000001  24-02-2022                    28193.0   \n",
       "2    nation   England  E92000001  23-02-2022                    29703.0   \n",
       "3    nation   England  E92000001  22-02-2022                    30080.0   \n",
       "4    nation   England  E92000001  21-02-2022                    29753.0   \n",
       "\n",
       "   cum_cases_by_publish_date  cum_cases_by_publish_date_rate  \\\n",
       "0                 15998983.0                         28291.7   \n",
       "1                 15975718.0                         28250.5   \n",
       "2                 15947871.0                         28201.3   \n",
       "3                 15918472.0                         28149.3   \n",
       "4                 15888557.0                         28096.4   \n",
       "\n",
       "   new_cases_by_specimen_date  cum_cases_by_specimen_date  \\\n",
       "0                         NaN                         NaN   \n",
       "1                     11855.0                  15998983.0   \n",
       "2                     24560.0                  15987128.0   \n",
       "3                     27505.0                  15962568.0   \n",
       "4                     32843.0                  15935063.0   \n",
       "\n",
       "   cum_cases_by_specimen_date_rate  ...  \\\n",
       "0                              NaN  ...   \n",
       "1                          28291.7  ...   \n",
       "2                          28270.7  ...   \n",
       "3                          28227.3  ...   \n",
       "4                          28178.6  ...   \n",
       "\n",
       "  cum_deaths_28_days_by_publish_date_rate new_deaths_28_days_by_death_date  \\\n",
       "0                                   248.3                              NaN   \n",
       "1                                   248.1                             14.0   \n",
       "2                                   247.9                             35.0   \n",
       "3                                   247.7                             65.0   \n",
       "4                                   247.4                             68.0   \n",
       "\n",
       "   cum_deaths_28_days_by_death_date  cum_deaths_28_days_by_death_date_rate  \\\n",
       "0                               NaN                                    NaN   \n",
       "1                          140392.0                                  248.3   \n",
       "2                          140378.0                                  248.2   \n",
       "3                          140343.0                                  248.2   \n",
       "4                          140278.0                                  248.1   \n",
       "\n",
       "   new_people_vaccinated_first_dose_by_publish_date  \\\n",
       "0                                               NaN   \n",
       "1                                            7066.0   \n",
       "2                                            8063.0   \n",
       "3                                            7503.0   \n",
       "4                                            6376.0   \n",
       "\n",
       "   new_people_vaccinated_second_dose_by_publish_date  \\\n",
       "0                                                NaN   \n",
       "1                                            14301.0   \n",
       "2                                            16271.0   \n",
       "3                                            16106.0   \n",
       "4                                            14421.0   \n",
       "\n",
       "   cum_people_vaccinated_first_dose_by_publish_date  \\\n",
       "0                                               NaN   \n",
       "1                                        44233366.0   \n",
       "2                                        44226300.0   \n",
       "3                                        44218237.0   \n",
       "4                                        44210734.0   \n",
       "\n",
       "   cum_people_vaccinated_second_dose_by_publish_date  \\\n",
       "0                                                NaN   \n",
       "1                                         41092655.0   \n",
       "2                                         41078354.0   \n",
       "3                                         41062083.0   \n",
       "4                                         41045977.0   \n",
       "\n",
       "   new_people_vaccinated_third_injection_by_publish_date  \\\n",
       "0                                                NaN       \n",
       "1                                            19624.0       \n",
       "2                                            21184.0       \n",
       "3                                            21337.0       \n",
       "4                                            19416.0       \n",
       "\n",
       "   cum_people_vaccinated_third_injection_by_publish_date  \n",
       "0                                                NaN      \n",
       "1                                         31783653.0      \n",
       "2                                         31764029.0      \n",
       "3                                         31742845.0      \n",
       "4                                         31721508.0      \n",
       "\n",
       "[5 rows x 37 columns]"
      ]
     },
     "execution_count": 4,
     "metadata": {},
     "output_type": "execute_result"
    }
   ],
   "source": [
    "file_path=r\"C:\\Users\\sooraj\\Downloads\\nation.csv\\nation.csv\"\n",
    "df=pd.read_csv(file_path)\n",
    "df.head()"
   ]
  },
  {
   "cell_type": "code",
   "execution_count": 157,
   "id": "c1e12733",
   "metadata": {},
   "outputs": [
    {
     "name": "stdout",
     "output_type": "stream",
     "text": [
      "<class 'pandas.core.frame.DataFrame'>\n",
      "RangeIndex: 2948 entries, 0 to 2947\n",
      "Data columns (total 37 columns):\n",
      " #   Column                                                 Non-Null Count  Dtype  \n",
      "---  ------                                                 --------------  -----  \n",
      " 0   area_type                                              2948 non-null   object \n",
      " 1   area_name                                              2948 non-null   object \n",
      " 2   area_code                                              2948 non-null   object \n",
      " 3   date                                                   2948 non-null   object \n",
      " 4   new_cases_by_publish_date                              2934 non-null   float64\n",
      " 5   cum_cases_by_publish_date                              2934 non-null   float64\n",
      " 6   cum_cases_by_publish_date_rate                         2896 non-null   float64\n",
      " 7   new_cases_by_specimen_date                             2944 non-null   float64\n",
      " 8   cum_cases_by_specimen_date                             2944 non-null   float64\n",
      " 9   cum_cases_by_specimen_date_rate                        2908 non-null   float64\n",
      " 10  male_cases                                             2936 non-null   object \n",
      " 11  female_cases                                           2936 non-null   object \n",
      " 12  new_pillar_one_tests_by_publish_date                   2745 non-null   float64\n",
      " 13  cum_pillar_one_tests_by_publish_date                   2764 non-null   float64\n",
      " 14  new_pillar_two_tests_by_publish_date                   2459 non-null   float64\n",
      " 15  cum_pillar_two_tests_by_publish_date                   2478 non-null   float64\n",
      " 16  new_pillar_three_tests_by_publish_date                 635 non-null    float64\n",
      " 17  cum_pillar_three_tests_by_publish_date                 635 non-null    float64\n",
      " 18  new_admissions                                         2859 non-null   float64\n",
      " 19  cum_admissions                                         2859 non-null   float64\n",
      " 20  cum_admissions_by_age                                  2863 non-null   object \n",
      " 21  cum_tests_by_publish_date                              2483 non-null   float64\n",
      " 22  new_tests_by_publish_date                              2464 non-null   float64\n",
      " 23  covid_occupied_mv_beds                                 2813 non-null   float64\n",
      " 24  hospital_cases                                         2839 non-null   float64\n",
      " 25  new_deaths_28_days_by_publish_date                     2847 non-null   float64\n",
      " 26  cum_deaths_28_days_by_publish_date                     2856 non-null   float64\n",
      " 27  cum_deaths_28_days_by_publish_date_rate                2839 non-null   float64\n",
      " 28  new_deaths_28_days_by_death_date                       2860 non-null   float64\n",
      " 29  cum_deaths_28_days_by_death_date                       2860 non-null   float64\n",
      " 30  cum_deaths_28_days_by_death_date_rate                  2848 non-null   float64\n",
      " 31  new_people_vaccinated_first_dose_by_publish_date       1640 non-null   float64\n",
      " 32  new_people_vaccinated_second_dose_by_publish_date      1640 non-null   float64\n",
      " 33  cum_people_vaccinated_first_dose_by_publish_date       1644 non-null   float64\n",
      " 34  cum_people_vaccinated_second_dose_by_publish_date      1644 non-null   float64\n",
      " 35  new_people_vaccinated_third_injection_by_publish_date  554 non-null    float64\n",
      " 36  cum_people_vaccinated_third_injection_by_publish_date  558 non-null    float64\n",
      "dtypes: float64(30), object(7)\n",
      "memory usage: 852.3+ KB\n"
     ]
    },
    {
     "data": {
      "text/plain": [
       "area_type                                                   0\n",
       "area_name                                                   0\n",
       "area_code                                                   0\n",
       "date                                                        0\n",
       "new_cases_by_publish_date                                  14\n",
       "cum_cases_by_publish_date                                  14\n",
       "cum_cases_by_publish_date_rate                             52\n",
       "new_cases_by_specimen_date                                  4\n",
       "cum_cases_by_specimen_date                                  4\n",
       "cum_cases_by_specimen_date_rate                            40\n",
       "male_cases                                                 12\n",
       "female_cases                                               12\n",
       "new_pillar_one_tests_by_publish_date                      203\n",
       "cum_pillar_one_tests_by_publish_date                      184\n",
       "new_pillar_two_tests_by_publish_date                      489\n",
       "cum_pillar_two_tests_by_publish_date                      470\n",
       "new_pillar_three_tests_by_publish_date                   2313\n",
       "cum_pillar_three_tests_by_publish_date                   2313\n",
       "new_admissions                                             89\n",
       "cum_admissions                                             89\n",
       "cum_admissions_by_age                                      85\n",
       "cum_tests_by_publish_date                                 465\n",
       "new_tests_by_publish_date                                 484\n",
       "covid_occupied_mv_beds                                    135\n",
       "hospital_cases                                            109\n",
       "new_deaths_28_days_by_publish_date                        101\n",
       "cum_deaths_28_days_by_publish_date                         92\n",
       "cum_deaths_28_days_by_publish_date_rate                   109\n",
       "new_deaths_28_days_by_death_date                           88\n",
       "cum_deaths_28_days_by_death_date                           88\n",
       "cum_deaths_28_days_by_death_date_rate                     100\n",
       "new_people_vaccinated_first_dose_by_publish_date         1308\n",
       "new_people_vaccinated_second_dose_by_publish_date        1308\n",
       "cum_people_vaccinated_first_dose_by_publish_date         1304\n",
       "cum_people_vaccinated_second_dose_by_publish_date        1304\n",
       "new_people_vaccinated_third_injection_by_publish_date    2394\n",
       "cum_people_vaccinated_third_injection_by_publish_date    2390\n",
       "dtype: int64"
      ]
     },
     "execution_count": 157,
     "metadata": {},
     "output_type": "execute_result"
    }
   ],
   "source": [
    "df.info()\n",
    "df.isnull().sum()"
   ]
  },
  {
   "cell_type": "code",
   "execution_count": 158,
   "id": "2db16495",
   "metadata": {},
   "outputs": [
    {
     "data": {
      "image/png": "[encoded data removed]",
      "text/plain": [
       "<Figure size 720x432 with 2 Axes>"
      ]
     },
     "metadata": {
      "needs_background": "light"
     },
     "output_type": "display_data"
    }
   ],
   "source": [
    "import numpy as np\n",
    "import pandas as pd\n",
    "import matplotlib.pyplot as plt\n",
    "import seaborn as sns\n",
    "\n",
    "# Load the dataset\n",
    "file_path = r\"C:\\Users\\sooraj\\Downloads\\nation.csv\\nation.csv\"\n",
    "df = pd.read_csv(file_path)\n",
    "\n",
    "# Fill missing values with 0\n",
    "df.fillna(0, inplace=True)\n",
    "\n",
    "# Drop duplicate rows\n",
    "df.drop_duplicates(inplace=True)\n",
    "\n",
    "# Convert the date column to datetime format with explicit format\n",
    "df['date'] = pd.to_datetime(df['date'], dayfirst=True, infer_datetime_format=True)\n",
    "\n",
    "# Reverse the DataFrame and reset the index\n",
    "df_reversed = df.iloc[::-1].reset_index(drop=True)\n",
    "\n",
    "# Calculate daily changes\n",
    "df_reversed['daily_cases_change'] = df_reversed['cum_cases_by_publish_date'].diff().fillna(0)\n",
    "df_reversed['daily_deaths_change'] = df_reversed['cum_deaths_28_days_by_publish_date'].diff().fillna(0)\n",
    "df_reversed['daily_vaccinations_change'] = df_reversed['cum_people_vaccinated_first_dose_by_publish_date'].diff().fillna(0)\n",
    "\n",
    "# Extract month, week, and day of week\n",
    "df_reversed['month'] = df_reversed['date'].dt.month\n",
    "df_reversed['week'] = df_reversed['date'].dt.isocalendar().week\n",
    "df_reversed['day_of_week'] = df_reversed['date'].dt.dayofweek\n",
    "\n",
    "# Define custom function to partition years and apply it\n",
    "def get_year_partition(row):\n",
    "    year = row.year\n",
    "    month = row.month\n",
    "    \n",
    "    if year == 2020:\n",
    "        if 2 <= month <= 4:\n",
    "            return 0\n",
    "        elif 5 <= month <= 7:\n",
    "            return 1\n",
    "        elif 8 <= month <= 10:\n",
    "            return 2\n",
    "        elif 11 <= month <= 12:\n",
    "            return 3\n",
    "    elif year == 2021:\n",
    "        if month == 1:\n",
    "            return 3\n",
    "        elif 2 <= month <= 4:\n",
    "            return 4\n",
    "        elif 5 <= month <= 7:\n",
    "            return 5\n",
    "        elif 8 <= month <= 10:\n",
    "            return 6\n",
    "        elif 11 <= month <= 12:\n",
    "            return 7\n",
    "    elif year == 2022:\n",
    "        if 1 <= month <= 2:\n",
    "            return 7\n",
    "    return 0  # Ensure default value is 0 for missing or out-of-range dates\n",
    "\n",
    "df_reversed['year_partition'] = df_reversed['date'].apply(get_year_partition).astype('Int64').fillna(0)\n",
    "\n",
    "# Drop non-relevant or redundant columns\n",
    "df_reversed = df_reversed.drop(['male_cases', 'female_cases', 'cum_admissions_by_age'], axis=1)\n",
    "\n",
    "# Ensure all columns are numerical\n",
    "df_reversed = df_reversed.apply(pd.to_numeric, errors='coerce')\n",
    "\n",
    "# Fill missing values with 0\n",
    "df_cleaned = df_reversed.fillna(0)\n",
    "\n",
    "# Plot the heatmap of missing values\n",
    "plt.figure(figsize=(10, 6))\n",
    "plt.title('Missing Data Heatmap')\n",
    "sns.heatmap(df_cleaned.isnull(), cbar=True, cmap='viridis')\n",
    "plt.show()\n"
   ]
  },
  {
   "cell_type": "code",
   "execution_count": 159,
   "id": "2801cca7",
   "metadata": {},
   "outputs": [],
   "source": [
    "df.fillna(0,inplace=True)"
   ]
  },
  {
   "cell_type": "code",
   "execution_count": 160,
   "id": "041af8dd",
   "metadata": {},
   "outputs": [],
   "source": [
    "df.drop_duplicates(inplace=True)"
   ]
  },
  {
   "cell_type": "code",
   "execution_count": 161,
   "id": "e08247c1",
   "metadata": {},
   "outputs": [],
   "source": [
    "df['date'] = pd.to_datetime(df['date'])"
   ]
  },
  {
   "cell_type": "code",
   "execution_count": 162,
   "id": "79156cc5",
   "metadata": {},
   "outputs": [],
   "source": [
    "df.dropna(inplace=True)"
   ]
  },
  {
   "cell_type": "code",
   "execution_count": 163,
   "id": "6446e400",
   "metadata": {},
   "outputs": [
    {
     "data": {
      "text/html": [
       "<div>\n",
       "<style scoped>\n",
       "    .dataframe tbody tr th:only-of-type {\n",
       "        vertical-align: middle;\n",
       "    }\n",
       "\n",
       "    .dataframe tbody tr th {\n",
       "        vertical-align: top;\n",
       "    }\n",
       "\n",
       "    .dataframe thead th {\n",
       "        text-align: right;\n",
       "    }\n",
       "</style>\n",
       "<table border=\"1\" class=\"dataframe\">\n",
       "  <thead>\n",
       "    <tr style=\"text-align: right;\">\n",
       "      <th></th>\n",
       "      <th>area_type</th>\n",
       "      <th>area_name</th>\n",
       "      <th>area_code</th>\n",
       "      <th>date</th>\n",
       "      <th>new_cases_by_publish_date</th>\n",
       "      <th>cum_cases_by_publish_date</th>\n",
       "      <th>cum_cases_by_publish_date_rate</th>\n",
       "      <th>new_cases_by_specimen_date</th>\n",
       "      <th>cum_cases_by_specimen_date</th>\n",
       "      <th>cum_cases_by_specimen_date_rate</th>\n",
       "      <th>...</th>\n",
       "      <th>cum_deaths_28_days_by_publish_date_rate</th>\n",
       "      <th>new_deaths_28_days_by_death_date</th>\n",
       "      <th>cum_deaths_28_days_by_death_date</th>\n",
       "      <th>cum_deaths_28_days_by_death_date_rate</th>\n",
       "      <th>new_people_vaccinated_first_dose_by_publish_date</th>\n",
       "      <th>new_people_vaccinated_second_dose_by_publish_date</th>\n",
       "      <th>cum_people_vaccinated_first_dose_by_publish_date</th>\n",
       "      <th>cum_people_vaccinated_second_dose_by_publish_date</th>\n",
       "      <th>new_people_vaccinated_third_injection_by_publish_date</th>\n",
       "      <th>cum_people_vaccinated_third_injection_by_publish_date</th>\n",
       "    </tr>\n",
       "  </thead>\n",
       "  <tbody>\n",
       "    <tr>\n",
       "      <th>0</th>\n",
       "      <td>nation</td>\n",
       "      <td>Wales</td>\n",
       "      <td>W92000004</td>\n",
       "      <td>2020-02-27</td>\n",
       "      <td>0.0</td>\n",
       "      <td>0.0</td>\n",
       "      <td>0.0</td>\n",
       "      <td>1.0</td>\n",
       "      <td>1.0</td>\n",
       "      <td>0.0</td>\n",
       "      <td>...</td>\n",
       "      <td>0.0</td>\n",
       "      <td>0.0</td>\n",
       "      <td>0.0</td>\n",
       "      <td>0.0</td>\n",
       "      <td>0.0</td>\n",
       "      <td>0.0</td>\n",
       "      <td>0.0</td>\n",
       "      <td>0.0</td>\n",
       "      <td>0.0</td>\n",
       "      <td>0.0</td>\n",
       "    </tr>\n",
       "    <tr>\n",
       "      <th>1</th>\n",
       "      <td>nation</td>\n",
       "      <td>Wales</td>\n",
       "      <td>W92000004</td>\n",
       "      <td>2020-02-28</td>\n",
       "      <td>1.0</td>\n",
       "      <td>1.0</td>\n",
       "      <td>0.0</td>\n",
       "      <td>0.0</td>\n",
       "      <td>1.0</td>\n",
       "      <td>0.0</td>\n",
       "      <td>...</td>\n",
       "      <td>0.0</td>\n",
       "      <td>0.0</td>\n",
       "      <td>0.0</td>\n",
       "      <td>0.0</td>\n",
       "      <td>0.0</td>\n",
       "      <td>0.0</td>\n",
       "      <td>0.0</td>\n",
       "      <td>0.0</td>\n",
       "      <td>0.0</td>\n",
       "      <td>0.0</td>\n",
       "    </tr>\n",
       "    <tr>\n",
       "      <th>2</th>\n",
       "      <td>nation</td>\n",
       "      <td>Wales</td>\n",
       "      <td>W92000004</td>\n",
       "      <td>2020-02-29</td>\n",
       "      <td>0.0</td>\n",
       "      <td>1.0</td>\n",
       "      <td>0.0</td>\n",
       "      <td>0.0</td>\n",
       "      <td>1.0</td>\n",
       "      <td>0.0</td>\n",
       "      <td>...</td>\n",
       "      <td>0.0</td>\n",
       "      <td>0.0</td>\n",
       "      <td>0.0</td>\n",
       "      <td>0.0</td>\n",
       "      <td>0.0</td>\n",
       "      <td>0.0</td>\n",
       "      <td>0.0</td>\n",
       "      <td>0.0</td>\n",
       "      <td>0.0</td>\n",
       "      <td>0.0</td>\n",
       "    </tr>\n",
       "    <tr>\n",
       "      <th>3</th>\n",
       "      <td>nation</td>\n",
       "      <td>Wales</td>\n",
       "      <td>W92000004</td>\n",
       "      <td>2020-03-01</td>\n",
       "      <td>0.0</td>\n",
       "      <td>1.0</td>\n",
       "      <td>0.0</td>\n",
       "      <td>0.0</td>\n",
       "      <td>1.0</td>\n",
       "      <td>0.0</td>\n",
       "      <td>...</td>\n",
       "      <td>0.0</td>\n",
       "      <td>0.0</td>\n",
       "      <td>0.0</td>\n",
       "      <td>0.0</td>\n",
       "      <td>0.0</td>\n",
       "      <td>0.0</td>\n",
       "      <td>0.0</td>\n",
       "      <td>0.0</td>\n",
       "      <td>0.0</td>\n",
       "      <td>0.0</td>\n",
       "    </tr>\n",
       "    <tr>\n",
       "      <th>4</th>\n",
       "      <td>nation</td>\n",
       "      <td>Wales</td>\n",
       "      <td>W92000004</td>\n",
       "      <td>2020-03-02</td>\n",
       "      <td>0.0</td>\n",
       "      <td>1.0</td>\n",
       "      <td>0.0</td>\n",
       "      <td>0.0</td>\n",
       "      <td>1.0</td>\n",
       "      <td>0.0</td>\n",
       "      <td>...</td>\n",
       "      <td>0.0</td>\n",
       "      <td>0.0</td>\n",
       "      <td>0.0</td>\n",
       "      <td>0.0</td>\n",
       "      <td>0.0</td>\n",
       "      <td>0.0</td>\n",
       "      <td>0.0</td>\n",
       "      <td>0.0</td>\n",
       "      <td>0.0</td>\n",
       "      <td>0.0</td>\n",
       "    </tr>\n",
       "    <tr>\n",
       "      <th>...</th>\n",
       "      <td>...</td>\n",
       "      <td>...</td>\n",
       "      <td>...</td>\n",
       "      <td>...</td>\n",
       "      <td>...</td>\n",
       "      <td>...</td>\n",
       "      <td>...</td>\n",
       "      <td>...</td>\n",
       "      <td>...</td>\n",
       "      <td>...</td>\n",
       "      <td>...</td>\n",
       "      <td>...</td>\n",
       "      <td>...</td>\n",
       "      <td>...</td>\n",
       "      <td>...</td>\n",
       "      <td>...</td>\n",
       "      <td>...</td>\n",
       "      <td>...</td>\n",
       "      <td>...</td>\n",
       "      <td>...</td>\n",
       "      <td>...</td>\n",
       "    </tr>\n",
       "    <tr>\n",
       "      <th>2943</th>\n",
       "      <td>nation</td>\n",
       "      <td>England</td>\n",
       "      <td>E92000001</td>\n",
       "      <td>2022-02-21</td>\n",
       "      <td>29753.0</td>\n",
       "      <td>15888557.0</td>\n",
       "      <td>28096.4</td>\n",
       "      <td>32843.0</td>\n",
       "      <td>15935063.0</td>\n",
       "      <td>28178.6</td>\n",
       "      <td>...</td>\n",
       "      <td>247.4</td>\n",
       "      <td>68.0</td>\n",
       "      <td>140278.0</td>\n",
       "      <td>248.1</td>\n",
       "      <td>6376.0</td>\n",
       "      <td>14421.0</td>\n",
       "      <td>44210734.0</td>\n",
       "      <td>41045977.0</td>\n",
       "      <td>19416.0</td>\n",
       "      <td>31721508.0</td>\n",
       "    </tr>\n",
       "    <tr>\n",
       "      <th>2944</th>\n",
       "      <td>nation</td>\n",
       "      <td>England</td>\n",
       "      <td>E92000001</td>\n",
       "      <td>2022-02-22</td>\n",
       "      <td>30080.0</td>\n",
       "      <td>15918472.0</td>\n",
       "      <td>28149.3</td>\n",
       "      <td>27505.0</td>\n",
       "      <td>15962568.0</td>\n",
       "      <td>28227.3</td>\n",
       "      <td>...</td>\n",
       "      <td>247.7</td>\n",
       "      <td>65.0</td>\n",
       "      <td>140343.0</td>\n",
       "      <td>248.2</td>\n",
       "      <td>7503.0</td>\n",
       "      <td>16106.0</td>\n",
       "      <td>44218237.0</td>\n",
       "      <td>41062083.0</td>\n",
       "      <td>21337.0</td>\n",
       "      <td>31742845.0</td>\n",
       "    </tr>\n",
       "    <tr>\n",
       "      <th>2945</th>\n",
       "      <td>nation</td>\n",
       "      <td>England</td>\n",
       "      <td>E92000001</td>\n",
       "      <td>2022-02-23</td>\n",
       "      <td>29703.0</td>\n",
       "      <td>15947871.0</td>\n",
       "      <td>28201.3</td>\n",
       "      <td>24560.0</td>\n",
       "      <td>15987128.0</td>\n",
       "      <td>28270.7</td>\n",
       "      <td>...</td>\n",
       "      <td>247.9</td>\n",
       "      <td>35.0</td>\n",
       "      <td>140378.0</td>\n",
       "      <td>248.2</td>\n",
       "      <td>8063.0</td>\n",
       "      <td>16271.0</td>\n",
       "      <td>44226300.0</td>\n",
       "      <td>41078354.0</td>\n",
       "      <td>21184.0</td>\n",
       "      <td>31764029.0</td>\n",
       "    </tr>\n",
       "    <tr>\n",
       "      <th>2946</th>\n",
       "      <td>nation</td>\n",
       "      <td>England</td>\n",
       "      <td>E92000001</td>\n",
       "      <td>2022-02-24</td>\n",
       "      <td>28193.0</td>\n",
       "      <td>15975718.0</td>\n",
       "      <td>28250.5</td>\n",
       "      <td>11855.0</td>\n",
       "      <td>15998983.0</td>\n",
       "      <td>28291.7</td>\n",
       "      <td>...</td>\n",
       "      <td>248.1</td>\n",
       "      <td>14.0</td>\n",
       "      <td>140392.0</td>\n",
       "      <td>248.3</td>\n",
       "      <td>7066.0</td>\n",
       "      <td>14301.0</td>\n",
       "      <td>44233366.0</td>\n",
       "      <td>41092655.0</td>\n",
       "      <td>19624.0</td>\n",
       "      <td>31783653.0</td>\n",
       "    </tr>\n",
       "    <tr>\n",
       "      <th>2947</th>\n",
       "      <td>nation</td>\n",
       "      <td>England</td>\n",
       "      <td>E92000001</td>\n",
       "      <td>2022-02-25</td>\n",
       "      <td>23526.0</td>\n",
       "      <td>15998983.0</td>\n",
       "      <td>28291.7</td>\n",
       "      <td>0.0</td>\n",
       "      <td>0.0</td>\n",
       "      <td>0.0</td>\n",
       "      <td>...</td>\n",
       "      <td>248.3</td>\n",
       "      <td>0.0</td>\n",
       "      <td>0.0</td>\n",
       "      <td>0.0</td>\n",
       "      <td>0.0</td>\n",
       "      <td>0.0</td>\n",
       "      <td>0.0</td>\n",
       "      <td>0.0</td>\n",
       "      <td>0.0</td>\n",
       "      <td>0.0</td>\n",
       "    </tr>\n",
       "  </tbody>\n",
       "</table>\n",
       "<p>2948 rows × 37 columns</p>\n",
       "</div>"
      ],
      "text/plain": [
       "     area_type area_name  area_code       date  new_cases_by_publish_date  \\\n",
       "0       nation     Wales  W92000004 2020-02-27                        0.0   \n",
       "1       nation     Wales  W92000004 2020-02-28                        1.0   \n",
       "2       nation     Wales  W92000004 2020-02-29                        0.0   \n",
       "3       nation     Wales  W92000004 2020-03-01                        0.0   \n",
       "4       nation     Wales  W92000004 2020-03-02                        0.0   \n",
       "...        ...       ...        ...        ...                        ...   \n",
       "2943    nation   England  E92000001 2022-02-21                    29753.0   \n",
       "2944    nation   England  E92000001 2022-02-22                    30080.0   \n",
       "2945    nation   England  E92000001 2022-02-23                    29703.0   \n",
       "2946    nation   England  E92000001 2022-02-24                    28193.0   \n",
       "2947    nation   England  E92000001 2022-02-25                    23526.0   \n",
       "\n",
       "      cum_cases_by_publish_date  cum_cases_by_publish_date_rate  \\\n",
       "0                           0.0                             0.0   \n",
       "1                           1.0                             0.0   \n",
       "2                           1.0                             0.0   \n",
       "3                           1.0                             0.0   \n",
       "4                           1.0                             0.0   \n",
       "...                         ...                             ...   \n",
       "2943                 15888557.0                         28096.4   \n",
       "2944                 15918472.0                         28149.3   \n",
       "2945                 15947871.0                         28201.3   \n",
       "2946                 15975718.0                         28250.5   \n",
       "2947                 15998983.0                         28291.7   \n",
       "\n",
       "      new_cases_by_specimen_date  cum_cases_by_specimen_date  \\\n",
       "0                            1.0                         1.0   \n",
       "1                            0.0                         1.0   \n",
       "2                            0.0                         1.0   \n",
       "3                            0.0                         1.0   \n",
       "4                            0.0                         1.0   \n",
       "...                          ...                         ...   \n",
       "2943                     32843.0                  15935063.0   \n",
       "2944                     27505.0                  15962568.0   \n",
       "2945                     24560.0                  15987128.0   \n",
       "2946                     11855.0                  15998983.0   \n",
       "2947                         0.0                         0.0   \n",
       "\n",
       "      cum_cases_by_specimen_date_rate  ...  \\\n",
       "0                                 0.0  ...   \n",
       "1                                 0.0  ...   \n",
       "2                                 0.0  ...   \n",
       "3                                 0.0  ...   \n",
       "4                                 0.0  ...   \n",
       "...                               ...  ...   \n",
       "2943                          28178.6  ...   \n",
       "2944                          28227.3  ...   \n",
       "2945                          28270.7  ...   \n",
       "2946                          28291.7  ...   \n",
       "2947                              0.0  ...   \n",
       "\n",
       "     cum_deaths_28_days_by_publish_date_rate new_deaths_28_days_by_death_date  \\\n",
       "0                                        0.0                              0.0   \n",
       "1                                        0.0                              0.0   \n",
       "2                                        0.0                              0.0   \n",
       "3                                        0.0                              0.0   \n",
       "4                                        0.0                              0.0   \n",
       "...                                      ...                              ...   \n",
       "2943                                   247.4                             68.0   \n",
       "2944                                   247.7                             65.0   \n",
       "2945                                   247.9                             35.0   \n",
       "2946                                   248.1                             14.0   \n",
       "2947                                   248.3                              0.0   \n",
       "\n",
       "      cum_deaths_28_days_by_death_date  cum_deaths_28_days_by_death_date_rate  \\\n",
       "0                                  0.0                                    0.0   \n",
       "1                                  0.0                                    0.0   \n",
       "2                                  0.0                                    0.0   \n",
       "3                                  0.0                                    0.0   \n",
       "4                                  0.0                                    0.0   \n",
       "...                                ...                                    ...   \n",
       "2943                          140278.0                                  248.1   \n",
       "2944                          140343.0                                  248.2   \n",
       "2945                          140378.0                                  248.2   \n",
       "2946                          140392.0                                  248.3   \n",
       "2947                               0.0                                    0.0   \n",
       "\n",
       "      new_people_vaccinated_first_dose_by_publish_date  \\\n",
       "0                                                  0.0   \n",
       "1                                                  0.0   \n",
       "2                                                  0.0   \n",
       "3                                                  0.0   \n",
       "4                                                  0.0   \n",
       "...                                                ...   \n",
       "2943                                            6376.0   \n",
       "2944                                            7503.0   \n",
       "2945                                            8063.0   \n",
       "2946                                            7066.0   \n",
       "2947                                               0.0   \n",
       "\n",
       "      new_people_vaccinated_second_dose_by_publish_date  \\\n",
       "0                                                   0.0   \n",
       "1                                                   0.0   \n",
       "2                                                   0.0   \n",
       "3                                                   0.0   \n",
       "4                                                   0.0   \n",
       "...                                                 ...   \n",
       "2943                                            14421.0   \n",
       "2944                                            16106.0   \n",
       "2945                                            16271.0   \n",
       "2946                                            14301.0   \n",
       "2947                                                0.0   \n",
       "\n",
       "      cum_people_vaccinated_first_dose_by_publish_date  \\\n",
       "0                                                  0.0   \n",
       "1                                                  0.0   \n",
       "2                                                  0.0   \n",
       "3                                                  0.0   \n",
       "4                                                  0.0   \n",
       "...                                                ...   \n",
       "2943                                        44210734.0   \n",
       "2944                                        44218237.0   \n",
       "2945                                        44226300.0   \n",
       "2946                                        44233366.0   \n",
       "2947                                               0.0   \n",
       "\n",
       "      cum_people_vaccinated_second_dose_by_publish_date  \\\n",
       "0                                                   0.0   \n",
       "1                                                   0.0   \n",
       "2                                                   0.0   \n",
       "3                                                   0.0   \n",
       "4                                                   0.0   \n",
       "...                                                 ...   \n",
       "2943                                         41045977.0   \n",
       "2944                                         41062083.0   \n",
       "2945                                         41078354.0   \n",
       "2946                                         41092655.0   \n",
       "2947                                                0.0   \n",
       "\n",
       "      new_people_vaccinated_third_injection_by_publish_date  \\\n",
       "0                                                   0.0       \n",
       "1                                                   0.0       \n",
       "2                                                   0.0       \n",
       "3                                                   0.0       \n",
       "4                                                   0.0       \n",
       "...                                                 ...       \n",
       "2943                                            19416.0       \n",
       "2944                                            21337.0       \n",
       "2945                                            21184.0       \n",
       "2946                                            19624.0       \n",
       "2947                                                0.0       \n",
       "\n",
       "      cum_people_vaccinated_third_injection_by_publish_date  \n",
       "0                                                   0.0      \n",
       "1                                                   0.0      \n",
       "2                                                   0.0      \n",
       "3                                                   0.0      \n",
       "4                                                   0.0      \n",
       "...                                                 ...      \n",
       "2943                                         31721508.0      \n",
       "2944                                         31742845.0      \n",
       "2945                                         31764029.0      \n",
       "2946                                         31783653.0      \n",
       "2947                                                0.0      \n",
       "\n",
       "[2948 rows x 37 columns]"
      ]
     },
     "execution_count": 163,
     "metadata": {},
     "output_type": "execute_result"
    }
   ],
   "source": [
    "df_reversed = df.iloc[::-1].reset_index(drop=True)\n",
    "df_reversed"
   ]
  },
  {
   "cell_type": "code",
   "execution_count": 164,
   "id": "29ed7801",
   "metadata": {},
   "outputs": [],
   "source": [
    "df_reversed['daily_cases_change'] = df_reversed['cum_cases_by_publish_date'].diff().fillna(0)\n",
    "df_reversed['daily_deaths_change'] = df_reversed['cum_deaths_28_days_by_publish_date'].diff().fillna(0)\n",
    "df_reversed['daily_vaccinations_change'] = df_reversed['cum_people_vaccinated_first_dose_by_publish_date'].diff().fillna(0)"
   ]
  },
  {
   "cell_type": "code",
   "execution_count": 165,
   "id": "014136af",
   "metadata": {},
   "outputs": [],
   "source": [
    "df_reversed['month'] = df_reversed['date'].dt.month\n",
    "df_reversed['week'] = df_reversed['date'].dt.isocalendar().week\n",
    "df_reversed['day_of_week'] = df['date'].dt.dayofweek\n",
    "df_reversed['day_of_week'] = df['date'].dt.dayofweek"
   ]
  },
  {
   "cell_type": "code",
   "execution_count": 166,
   "id": "71977dcd",
   "metadata": {},
   "outputs": [
    {
     "name": "stdout",
     "output_type": "stream",
     "text": [
      "   area_type area_name  area_code       date  new_cases_by_publish_date  \\\n",
      "0     nation     Wales  W92000004 2020-02-27                        0.0   \n",
      "1     nation     Wales  W92000004 2020-02-28                        1.0   \n",
      "2     nation     Wales  W92000004 2020-02-29                        0.0   \n",
      "3     nation     Wales  W92000004 2020-03-01                        0.0   \n",
      "4     nation     Wales  W92000004 2020-03-02                        0.0   \n",
      "5     nation     Wales  W92000004 2020-03-03                        0.0   \n",
      "6     nation     Wales  W92000004 2020-03-04                        0.0   \n",
      "7     nation     Wales  W92000004 2020-03-05                        1.0   \n",
      "8     nation     Wales  W92000004 2020-03-06                        0.0   \n",
      "9     nation     Wales  W92000004 2020-03-07                        0.0   \n",
      "10    nation     Wales  W92000004 2020-03-08                        0.0   \n",
      "11    nation     Wales  W92000004 2020-03-09                        2.0   \n",
      "12    nation     Wales  W92000004 2020-03-10                        2.0   \n",
      "13    nation     Wales  W92000004 2020-03-11                        9.0   \n",
      "14    nation     Wales  W92000004 2020-03-12                       10.0   \n",
      "15    nation     Wales  W92000004 2020-03-13                       13.0   \n",
      "16    nation     Wales  W92000004 2020-03-14                       22.0   \n",
      "17    nation     Wales  W92000004 2020-03-15                       34.0   \n",
      "18    nation     Wales  W92000004 2020-03-16                       30.0   \n",
      "19    nation     Wales  W92000004 2020-03-17                       12.0   \n",
      "\n",
      "    cum_cases_by_publish_date  cum_cases_by_publish_date_rate  \\\n",
      "0                         0.0                             0.0   \n",
      "1                         1.0                             0.0   \n",
      "2                         1.0                             0.0   \n",
      "3                         1.0                             0.0   \n",
      "4                         1.0                             0.0   \n",
      "5                         1.0                             0.0   \n",
      "6                         1.0                             0.0   \n",
      "7                         2.0                             0.1   \n",
      "8                         2.0                             0.1   \n",
      "9                         2.0                             0.1   \n",
      "10                        2.0                             0.1   \n",
      "11                        4.0                             0.1   \n",
      "12                        6.0                             0.2   \n",
      "13                       15.0                             0.5   \n",
      "14                       25.0                             0.8   \n",
      "15                       38.0                             1.2   \n",
      "16                       60.0                             1.9   \n",
      "17                       94.0                             3.0   \n",
      "18                      124.0                             3.9   \n",
      "19                      136.0                             4.3   \n",
      "\n",
      "    new_cases_by_specimen_date  cum_cases_by_specimen_date  \\\n",
      "0                          1.0                         1.0   \n",
      "1                          0.0                         1.0   \n",
      "2                          0.0                         1.0   \n",
      "3                          0.0                         1.0   \n",
      "4                          0.0                         1.0   \n",
      "5                          0.0                         1.0   \n",
      "6                          1.0                         2.0   \n",
      "7                          0.0                         2.0   \n",
      "8                          0.0                         2.0   \n",
      "9                          2.0                         4.0   \n",
      "10                         1.0                         5.0   \n",
      "11                         3.0                         8.0   \n",
      "12                        12.0                        20.0   \n",
      "13                        14.0                        34.0   \n",
      "14                        25.0                        59.0   \n",
      "15                        29.0                        88.0   \n",
      "16                        18.0                       106.0   \n",
      "17                        31.0                       137.0   \n",
      "18                        29.0                       166.0   \n",
      "19                        57.0                       223.0   \n",
      "\n",
      "    cum_cases_by_specimen_date_rate  ...  \\\n",
      "0                               0.0  ...   \n",
      "1                               0.0  ...   \n",
      "2                               0.0  ...   \n",
      "3                               0.0  ...   \n",
      "4                               0.0  ...   \n",
      "5                               0.0  ...   \n",
      "6                               0.1  ...   \n",
      "7                               0.1  ...   \n",
      "8                               0.1  ...   \n",
      "9                               0.1  ...   \n",
      "10                              0.2  ...   \n",
      "11                              0.3  ...   \n",
      "12                              0.6  ...   \n",
      "13                              1.1  ...   \n",
      "14                              1.9  ...   \n",
      "15                              2.8  ...   \n",
      "16                              3.3  ...   \n",
      "17                              4.3  ...   \n",
      "18                              5.2  ...   \n",
      "19                              7.0  ...   \n",
      "\n",
      "   cum_people_vaccinated_second_dose_by_publish_date  \\\n",
      "0                                                0.0   \n",
      "1                                                0.0   \n",
      "2                                                0.0   \n",
      "3                                                0.0   \n",
      "4                                                0.0   \n",
      "5                                                0.0   \n",
      "6                                                0.0   \n",
      "7                                                0.0   \n",
      "8                                                0.0   \n",
      "9                                                0.0   \n",
      "10                                               0.0   \n",
      "11                                               0.0   \n",
      "12                                               0.0   \n",
      "13                                               0.0   \n",
      "14                                               0.0   \n",
      "15                                               0.0   \n",
      "16                                               0.0   \n",
      "17                                               0.0   \n",
      "18                                               0.0   \n",
      "19                                               0.0   \n",
      "\n",
      "   new_people_vaccinated_third_injection_by_publish_date  \\\n",
      "0                                                 0.0      \n",
      "1                                                 0.0      \n",
      "2                                                 0.0      \n",
      "3                                                 0.0      \n",
      "4                                                 0.0      \n",
      "5                                                 0.0      \n",
      "6                                                 0.0      \n",
      "7                                                 0.0      \n",
      "8                                                 0.0      \n",
      "9                                                 0.0      \n",
      "10                                                0.0      \n",
      "11                                                0.0      \n",
      "12                                                0.0      \n",
      "13                                                0.0      \n",
      "14                                                0.0      \n",
      "15                                                0.0      \n",
      "16                                                0.0      \n",
      "17                                                0.0      \n",
      "18                                                0.0      \n",
      "19                                                0.0      \n",
      "\n",
      "    cum_people_vaccinated_third_injection_by_publish_date  daily_cases_change  \\\n",
      "0                                                 0.0                     0.0   \n",
      "1                                                 0.0                     1.0   \n",
      "2                                                 0.0                     0.0   \n",
      "3                                                 0.0                     0.0   \n",
      "4                                                 0.0                     0.0   \n",
      "5                                                 0.0                     0.0   \n",
      "6                                                 0.0                     0.0   \n",
      "7                                                 0.0                     1.0   \n",
      "8                                                 0.0                     0.0   \n",
      "9                                                 0.0                     0.0   \n",
      "10                                                0.0                     0.0   \n",
      "11                                                0.0                     2.0   \n",
      "12                                                0.0                     2.0   \n",
      "13                                                0.0                     9.0   \n",
      "14                                                0.0                    10.0   \n",
      "15                                                0.0                    13.0   \n",
      "16                                                0.0                    22.0   \n",
      "17                                                0.0                    34.0   \n",
      "18                                                0.0                    30.0   \n",
      "19                                                0.0                    12.0   \n",
      "\n",
      "    daily_deaths_change  daily_vaccinations_change  month  week  day_of_week  \\\n",
      "0                   0.0                        0.0      2     9            4   \n",
      "1                   0.0                        0.0      2     9            3   \n",
      "2                   0.0                        0.0      2     9            2   \n",
      "3                   0.0                        0.0      3     9            1   \n",
      "4                   0.0                        0.0      3    10            0   \n",
      "5                   0.0                        0.0      3    10            6   \n",
      "6                   0.0                        0.0      3    10            5   \n",
      "7                   0.0                        0.0      3    10            4   \n",
      "8                   0.0                        0.0      3    10            3   \n",
      "9                   0.0                        0.0      3    10            2   \n",
      "10                  0.0                        0.0      3    10            1   \n",
      "11                  0.0                        0.0      3    11            0   \n",
      "12                  0.0                        0.0      3    11            6   \n",
      "13                  0.0                        0.0      3    11            5   \n",
      "14                  0.0                        0.0      3    11            4   \n",
      "15                  0.0                        0.0      3    11            3   \n",
      "16                  0.0                        0.0      3    11            2   \n",
      "17                  0.0                        0.0      3    11            1   \n",
      "18                  0.0                        0.0      3    12            0   \n",
      "19                  1.0                        0.0      3    12            6   \n",
      "\n",
      "    year_partition  \n",
      "0                0  \n",
      "1                0  \n",
      "2                0  \n",
      "3                0  \n",
      "4                0  \n",
      "5                0  \n",
      "6                0  \n",
      "7                0  \n",
      "8                0  \n",
      "9                0  \n",
      "10               0  \n",
      "11               0  \n",
      "12               0  \n",
      "13               0  \n",
      "14               0  \n",
      "15               0  \n",
      "16               0  \n",
      "17               0  \n",
      "18               0  \n",
      "19               0  \n",
      "\n",
      "[20 rows x 44 columns]\n"
     ]
    }
   ],
   "source": [
    "def get_year_partition(row):\n",
    "    year = row.year\n",
    "    month = row.month\n",
    "    \n",
    "    if year == 2020:\n",
    "        if 2 <= month <= 4:\n",
    "            return 0\n",
    "        elif 5 <= month <= 7:\n",
    "            return 1\n",
    "        elif 8 <= month <= 10:\n",
    "            return 2\n",
    "        elif 11 <= month <= 12:\n",
    "            return 3\n",
    "    elif year == 2021:\n",
    "        if month == 1:\n",
    "            return 3\n",
    "        elif 2 <= month <= 4:\n",
    "            return 4\n",
    "        elif 5 <= month <= 7:\n",
    "            return 5\n",
    "        elif 8 <= month <= 10:\n",
    "            return 6\n",
    "        elif 11 <= month <= 12:\n",
    "            return 7\n",
    "    elif year == 2022:\n",
    "        if 1 <= month <= 2:\n",
    "            return 7\n",
    "    return 0  # Ensure default value is 0 for missing or out-of-range dates\n",
    "# Apply the custom function to the DataFrame\n",
    "df_reversed['year_partition'] = df_reversed['date'].apply(get_year_partition)\n",
    "\n",
    "# Convert the year_partition column to integer type\n",
    "df_reversed['year_partition'] = df_reversed['year_partition'].astype('Int64')\n",
    "\n",
    "# Replace any remaining NaN values with 0 (though ideally, there shouldn't be any NaNs)\n",
    "df_reversed['year_partition'].fillna(0, inplace=True)\n",
    "\n",
    "# Display the DataFrame with the new column\n",
    "print(df_reversed.head(20))  # Print first 20 rows for demonstration\n"
   ]
  },
  {
   "cell_type": "code",
   "execution_count": 167,
   "id": "9724b3a2",
   "metadata": {},
   "outputs": [
    {
     "name": "stdout",
     "output_type": "stream",
     "text": [
      "<class 'pandas.core.frame.DataFrame'>\n",
      "RangeIndex: 2948 entries, 0 to 2947\n",
      "Data columns (total 44 columns):\n",
      " #   Column                                                 Non-Null Count  Dtype         \n",
      "---  ------                                                 --------------  -----         \n",
      " 0   area_type                                              2948 non-null   object        \n",
      " 1   area_name                                              2948 non-null   object        \n",
      " 2   area_code                                              2948 non-null   object        \n",
      " 3   date                                                   2948 non-null   datetime64[ns]\n",
      " 4   new_cases_by_publish_date                              2948 non-null   float64       \n",
      " 5   cum_cases_by_publish_date                              2948 non-null   float64       \n",
      " 6   cum_cases_by_publish_date_rate                         2948 non-null   float64       \n",
      " 7   new_cases_by_specimen_date                             2948 non-null   float64       \n",
      " 8   cum_cases_by_specimen_date                             2948 non-null   float64       \n",
      " 9   cum_cases_by_specimen_date_rate                        2948 non-null   float64       \n",
      " 10  male_cases                                             2948 non-null   object        \n",
      " 11  female_cases                                           2948 non-null   object        \n",
      " 12  new_pillar_one_tests_by_publish_date                   2948 non-null   float64       \n",
      " 13  cum_pillar_one_tests_by_publish_date                   2948 non-null   float64       \n",
      " 14  new_pillar_two_tests_by_publish_date                   2948 non-null   float64       \n",
      " 15  cum_pillar_two_tests_by_publish_date                   2948 non-null   float64       \n",
      " 16  new_pillar_three_tests_by_publish_date                 2948 non-null   float64       \n",
      " 17  cum_pillar_three_tests_by_publish_date                 2948 non-null   float64       \n",
      " 18  new_admissions                                         2948 non-null   float64       \n",
      " 19  cum_admissions                                         2948 non-null   float64       \n",
      " 20  cum_admissions_by_age                                  2948 non-null   object        \n",
      " 21  cum_tests_by_publish_date                              2948 non-null   float64       \n",
      " 22  new_tests_by_publish_date                              2948 non-null   float64       \n",
      " 23  covid_occupied_mv_beds                                 2948 non-null   float64       \n",
      " 24  hospital_cases                                         2948 non-null   float64       \n",
      " 25  new_deaths_28_days_by_publish_date                     2948 non-null   float64       \n",
      " 26  cum_deaths_28_days_by_publish_date                     2948 non-null   float64       \n",
      " 27  cum_deaths_28_days_by_publish_date_rate                2948 non-null   float64       \n",
      " 28  new_deaths_28_days_by_death_date                       2948 non-null   float64       \n",
      " 29  cum_deaths_28_days_by_death_date                       2948 non-null   float64       \n",
      " 30  cum_deaths_28_days_by_death_date_rate                  2948 non-null   float64       \n",
      " 31  new_people_vaccinated_first_dose_by_publish_date       2948 non-null   float64       \n",
      " 32  new_people_vaccinated_second_dose_by_publish_date      2948 non-null   float64       \n",
      " 33  cum_people_vaccinated_first_dose_by_publish_date       2948 non-null   float64       \n",
      " 34  cum_people_vaccinated_second_dose_by_publish_date      2948 non-null   float64       \n",
      " 35  new_people_vaccinated_third_injection_by_publish_date  2948 non-null   float64       \n",
      " 36  cum_people_vaccinated_third_injection_by_publish_date  2948 non-null   float64       \n",
      " 37  daily_cases_change                                     2948 non-null   float64       \n",
      " 38  daily_deaths_change                                    2948 non-null   float64       \n",
      " 39  daily_vaccinations_change                              2948 non-null   float64       \n",
      " 40  month                                                  2948 non-null   int64         \n",
      " 41  week                                                   2948 non-null   UInt32        \n",
      " 42  day_of_week                                            2948 non-null   int64         \n",
      " 43  year_partition                                         2948 non-null   Int64         \n",
      "dtypes: Int64(1), UInt32(1), datetime64[ns](1), float64(33), int64(2), object(6)\n",
      "memory usage: 1007.7+ KB\n"
     ]
    }
   ],
   "source": [
    "df_reversed['day_of_week'] = df_reversed['date'].dt.dayofweek\n",
    "df_reversed.info()"
   ]
  },
  {
   "cell_type": "code",
   "execution_count": 168,
   "id": "edd3f05e",
   "metadata": {},
   "outputs": [],
   "source": [
    "def parse_male_female_cases(cell):\n",
    "    try:\n",
    "        return ast.literal_eval(cell)\n",
    "    except (ValueError, SyntaxError):\n",
    "        return []"
   ]
  },
  {
   "cell_type": "code",
   "execution_count": 169,
   "id": "1dcbd3ca",
   "metadata": {},
   "outputs": [],
   "source": [
    "df_reversed['male_cases_parsed'] = df_reversed['male_cases'].apply(parse_male_female_cases)\n",
    "df_reversed['female_cases_parsed'] = df_reversed['female_cases'].apply(parse_male_female_cases)"
   ]
  },
  {
   "cell_type": "code",
   "execution_count": 170,
   "id": "9bba3af8",
   "metadata": {},
   "outputs": [
    {
     "data": {
      "text/html": [
       "<div>\n",
       "<style scoped>\n",
       "    .dataframe tbody tr th:only-of-type {\n",
       "        vertical-align: middle;\n",
       "    }\n",
       "\n",
       "    .dataframe tbody tr th {\n",
       "        vertical-align: top;\n",
       "    }\n",
       "\n",
       "    .dataframe thead th {\n",
       "        text-align: right;\n",
       "    }\n",
       "</style>\n",
       "<table border=\"1\" class=\"dataframe\">\n",
       "  <thead>\n",
       "    <tr style=\"text-align: right;\">\n",
       "      <th></th>\n",
       "      <th>area_type</th>\n",
       "      <th>area_name</th>\n",
       "      <th>area_code</th>\n",
       "      <th>date</th>\n",
       "      <th>new_cases_by_publish_date</th>\n",
       "      <th>cum_cases_by_publish_date</th>\n",
       "      <th>cum_cases_by_publish_date_rate</th>\n",
       "      <th>new_cases_by_specimen_date</th>\n",
       "      <th>cum_cases_by_specimen_date</th>\n",
       "      <th>cum_cases_by_specimen_date_rate</th>\n",
       "      <th>...</th>\n",
       "      <th>male_cases_70_to_74</th>\n",
       "      <th>female_cases_70_to_74</th>\n",
       "      <th>male_cases_75_to_79</th>\n",
       "      <th>female_cases_75_to_79</th>\n",
       "      <th>male_cases_80_to_84</th>\n",
       "      <th>female_cases_80_to_84</th>\n",
       "      <th>male_cases_85_to_89</th>\n",
       "      <th>female_cases_85_to_89</th>\n",
       "      <th>male_cases_90+</th>\n",
       "      <th>female_cases_90+</th>\n",
       "    </tr>\n",
       "  </thead>\n",
       "  <tbody>\n",
       "    <tr>\n",
       "      <th>0</th>\n",
       "      <td>nation</td>\n",
       "      <td>Wales</td>\n",
       "      <td>W92000004</td>\n",
       "      <td>2020-02-27</td>\n",
       "      <td>0.0</td>\n",
       "      <td>0.0</td>\n",
       "      <td>0.0</td>\n",
       "      <td>1.0</td>\n",
       "      <td>1.0</td>\n",
       "      <td>0.0</td>\n",
       "      <td>...</td>\n",
       "      <td>NaN</td>\n",
       "      <td>NaN</td>\n",
       "      <td>NaN</td>\n",
       "      <td>NaN</td>\n",
       "      <td>NaN</td>\n",
       "      <td>NaN</td>\n",
       "      <td>NaN</td>\n",
       "      <td>NaN</td>\n",
       "      <td>NaN</td>\n",
       "      <td>NaN</td>\n",
       "    </tr>\n",
       "    <tr>\n",
       "      <th>1</th>\n",
       "      <td>nation</td>\n",
       "      <td>Wales</td>\n",
       "      <td>W92000004</td>\n",
       "      <td>2020-02-28</td>\n",
       "      <td>1.0</td>\n",
       "      <td>1.0</td>\n",
       "      <td>0.0</td>\n",
       "      <td>0.0</td>\n",
       "      <td>1.0</td>\n",
       "      <td>0.0</td>\n",
       "      <td>...</td>\n",
       "      <td>NaN</td>\n",
       "      <td>NaN</td>\n",
       "      <td>NaN</td>\n",
       "      <td>NaN</td>\n",
       "      <td>NaN</td>\n",
       "      <td>NaN</td>\n",
       "      <td>NaN</td>\n",
       "      <td>NaN</td>\n",
       "      <td>NaN</td>\n",
       "      <td>NaN</td>\n",
       "    </tr>\n",
       "    <tr>\n",
       "      <th>2</th>\n",
       "      <td>nation</td>\n",
       "      <td>Wales</td>\n",
       "      <td>W92000004</td>\n",
       "      <td>2020-02-29</td>\n",
       "      <td>0.0</td>\n",
       "      <td>1.0</td>\n",
       "      <td>0.0</td>\n",
       "      <td>0.0</td>\n",
       "      <td>1.0</td>\n",
       "      <td>0.0</td>\n",
       "      <td>...</td>\n",
       "      <td>NaN</td>\n",
       "      <td>NaN</td>\n",
       "      <td>NaN</td>\n",
       "      <td>NaN</td>\n",
       "      <td>NaN</td>\n",
       "      <td>NaN</td>\n",
       "      <td>NaN</td>\n",
       "      <td>NaN</td>\n",
       "      <td>NaN</td>\n",
       "      <td>NaN</td>\n",
       "    </tr>\n",
       "    <tr>\n",
       "      <th>3</th>\n",
       "      <td>nation</td>\n",
       "      <td>Wales</td>\n",
       "      <td>W92000004</td>\n",
       "      <td>2020-03-01</td>\n",
       "      <td>0.0</td>\n",
       "      <td>1.0</td>\n",
       "      <td>0.0</td>\n",
       "      <td>0.0</td>\n",
       "      <td>1.0</td>\n",
       "      <td>0.0</td>\n",
       "      <td>...</td>\n",
       "      <td>NaN</td>\n",
       "      <td>NaN</td>\n",
       "      <td>NaN</td>\n",
       "      <td>NaN</td>\n",
       "      <td>NaN</td>\n",
       "      <td>NaN</td>\n",
       "      <td>NaN</td>\n",
       "      <td>NaN</td>\n",
       "      <td>NaN</td>\n",
       "      <td>NaN</td>\n",
       "    </tr>\n",
       "    <tr>\n",
       "      <th>4</th>\n",
       "      <td>nation</td>\n",
       "      <td>Wales</td>\n",
       "      <td>W92000004</td>\n",
       "      <td>2020-03-02</td>\n",
       "      <td>0.0</td>\n",
       "      <td>1.0</td>\n",
       "      <td>0.0</td>\n",
       "      <td>0.0</td>\n",
       "      <td>1.0</td>\n",
       "      <td>0.0</td>\n",
       "      <td>...</td>\n",
       "      <td>NaN</td>\n",
       "      <td>NaN</td>\n",
       "      <td>NaN</td>\n",
       "      <td>NaN</td>\n",
       "      <td>NaN</td>\n",
       "      <td>NaN</td>\n",
       "      <td>NaN</td>\n",
       "      <td>NaN</td>\n",
       "      <td>NaN</td>\n",
       "      <td>NaN</td>\n",
       "    </tr>\n",
       "  </tbody>\n",
       "</table>\n",
       "<p>5 rows × 82 columns</p>\n",
       "</div>"
      ],
      "text/plain": [
       "  area_type area_name  area_code       date  new_cases_by_publish_date  \\\n",
       "0    nation     Wales  W92000004 2020-02-27                        0.0   \n",
       "1    nation     Wales  W92000004 2020-02-28                        1.0   \n",
       "2    nation     Wales  W92000004 2020-02-29                        0.0   \n",
       "3    nation     Wales  W92000004 2020-03-01                        0.0   \n",
       "4    nation     Wales  W92000004 2020-03-02                        0.0   \n",
       "\n",
       "   cum_cases_by_publish_date  cum_cases_by_publish_date_rate  \\\n",
       "0                        0.0                             0.0   \n",
       "1                        1.0                             0.0   \n",
       "2                        1.0                             0.0   \n",
       "3                        1.0                             0.0   \n",
       "4                        1.0                             0.0   \n",
       "\n",
       "   new_cases_by_specimen_date  cum_cases_by_specimen_date  \\\n",
       "0                         1.0                         1.0   \n",
       "1                         0.0                         1.0   \n",
       "2                         0.0                         1.0   \n",
       "3                         0.0                         1.0   \n",
       "4                         0.0                         1.0   \n",
       "\n",
       "   cum_cases_by_specimen_date_rate  ... male_cases_70_to_74  \\\n",
       "0                              0.0  ...                 NaN   \n",
       "1                              0.0  ...                 NaN   \n",
       "2                              0.0  ...                 NaN   \n",
       "3                              0.0  ...                 NaN   \n",
       "4                              0.0  ...                 NaN   \n",
       "\n",
       "  female_cases_70_to_74  male_cases_75_to_79  female_cases_75_to_79  \\\n",
       "0                   NaN                  NaN                    NaN   \n",
       "1                   NaN                  NaN                    NaN   \n",
       "2                   NaN                  NaN                    NaN   \n",
       "3                   NaN                  NaN                    NaN   \n",
       "4                   NaN                  NaN                    NaN   \n",
       "\n",
       "   male_cases_80_to_84  female_cases_80_to_84  male_cases_85_to_89  \\\n",
       "0                  NaN                    NaN                  NaN   \n",
       "1                  NaN                    NaN                  NaN   \n",
       "2                  NaN                    NaN                  NaN   \n",
       "3                  NaN                    NaN                  NaN   \n",
       "4                  NaN                    NaN                  NaN   \n",
       "\n",
       "   female_cases_85_to_89  male_cases_90+  female_cases_90+  \n",
       "0                    NaN             NaN               NaN  \n",
       "1                    NaN             NaN               NaN  \n",
       "2                    NaN             NaN               NaN  \n",
       "3                    NaN             NaN               NaN  \n",
       "4                    NaN             NaN               NaN  \n",
       "\n",
       "[5 rows x 82 columns]"
      ]
     },
     "execution_count": 170,
     "metadata": {},
     "output_type": "execute_result"
    }
   ],
   "source": [
    "def extract_age_group_values(parsed_list, age_group):\n",
    "    for item in parsed_list:\n",
    "        if item['age'] == age_group:\n",
    "            return item['value']\n",
    "    return None\n",
    "\n",
    "# Define the age groups\n",
    "age_groups = ['0_to_4', '5_to_9', '10_to_14', '15_to_19', '20_to_24', '25_to_29', '30_to_34', \n",
    "              '35_to_39', '40_to_44', '45_to_49', '50_to_54', '55_to_59', '60_to_64', \n",
    "              '65_to_69', '70_to_74', '75_to_79', '80_to_84', '85_to_89', '90+']\n",
    "\n",
    "# Create new columns for each age group\n",
    "for age_group in age_groups:\n",
    "    df_reversed[f'male_cases_{age_group}'] = df_reversed['male_cases_parsed'].apply(lambda x: extract_age_group_values(x, age_group))\n",
    "    df_reversed[f'female_cases_{age_group}'] = df_reversed['female_cases_parsed'].apply(lambda x: extract_age_group_values(x, age_group))\n",
    "\n",
    "# Drop the parsed column as it's no longer needed\n",
    "df_reversed.drop(columns=['male_cases_parsed'], inplace=True)\n",
    "df_reversed.drop(columns=['female_cases_parsed'], inplace=True)\n",
    "\n",
    "# Display the first few rows to verify the new columns\n",
    "df_reversed.head()"
   ]
  },
  {
   "cell_type": "code",
   "execution_count": 171,
   "id": "5f4c46eb",
   "metadata": {},
   "outputs": [
    {
     "name": "stdout",
     "output_type": "stream",
     "text": [
      "<class 'pandas.core.frame.DataFrame'>\n",
      "RangeIndex: 2948 entries, 0 to 2947\n",
      "Data columns (total 82 columns):\n",
      " #   Column                                                 Non-Null Count  Dtype         \n",
      "---  ------                                                 --------------  -----         \n",
      " 0   area_type                                              2948 non-null   object        \n",
      " 1   area_name                                              2948 non-null   object        \n",
      " 2   area_code                                              2948 non-null   object        \n",
      " 3   date                                                   2948 non-null   datetime64[ns]\n",
      " 4   new_cases_by_publish_date                              2948 non-null   float64       \n",
      " 5   cum_cases_by_publish_date                              2948 non-null   float64       \n",
      " 6   cum_cases_by_publish_date_rate                         2948 non-null   float64       \n",
      " 7   new_cases_by_specimen_date                             2948 non-null   float64       \n",
      " 8   cum_cases_by_specimen_date                             2948 non-null   float64       \n",
      " 9   cum_cases_by_specimen_date_rate                        2948 non-null   float64       \n",
      " 10  male_cases                                             2948 non-null   object        \n",
      " 11  female_cases                                           2948 non-null   object        \n",
      " 12  new_pillar_one_tests_by_publish_date                   2948 non-null   float64       \n",
      " 13  cum_pillar_one_tests_by_publish_date                   2948 non-null   float64       \n",
      " 14  new_pillar_two_tests_by_publish_date                   2948 non-null   float64       \n",
      " 15  cum_pillar_two_tests_by_publish_date                   2948 non-null   float64       \n",
      " 16  new_pillar_three_tests_by_publish_date                 2948 non-null   float64       \n",
      " 17  cum_pillar_three_tests_by_publish_date                 2948 non-null   float64       \n",
      " 18  new_admissions                                         2948 non-null   float64       \n",
      " 19  cum_admissions                                         2948 non-null   float64       \n",
      " 20  cum_admissions_by_age                                  2948 non-null   object        \n",
      " 21  cum_tests_by_publish_date                              2948 non-null   float64       \n",
      " 22  new_tests_by_publish_date                              2948 non-null   float64       \n",
      " 23  covid_occupied_mv_beds                                 2948 non-null   float64       \n",
      " 24  hospital_cases                                         2948 non-null   float64       \n",
      " 25  new_deaths_28_days_by_publish_date                     2948 non-null   float64       \n",
      " 26  cum_deaths_28_days_by_publish_date                     2948 non-null   float64       \n",
      " 27  cum_deaths_28_days_by_publish_date_rate                2948 non-null   float64       \n",
      " 28  new_deaths_28_days_by_death_date                       2948 non-null   float64       \n",
      " 29  cum_deaths_28_days_by_death_date                       2948 non-null   float64       \n",
      " 30  cum_deaths_28_days_by_death_date_rate                  2948 non-null   float64       \n",
      " 31  new_people_vaccinated_first_dose_by_publish_date       2948 non-null   float64       \n",
      " 32  new_people_vaccinated_second_dose_by_publish_date      2948 non-null   float64       \n",
      " 33  cum_people_vaccinated_first_dose_by_publish_date       2948 non-null   float64       \n",
      " 34  cum_people_vaccinated_second_dose_by_publish_date      2948 non-null   float64       \n",
      " 35  new_people_vaccinated_third_injection_by_publish_date  2948 non-null   float64       \n",
      " 36  cum_people_vaccinated_third_injection_by_publish_date  2948 non-null   float64       \n",
      " 37  daily_cases_change                                     2948 non-null   float64       \n",
      " 38  daily_deaths_change                                    2948 non-null   float64       \n",
      " 39  daily_vaccinations_change                              2948 non-null   float64       \n",
      " 40  month                                                  2948 non-null   int64         \n",
      " 41  week                                                   2948 non-null   UInt32        \n",
      " 42  day_of_week                                            2948 non-null   int64         \n",
      " 43  year_partition                                         2948 non-null   Int64         \n",
      " 44  male_cases_0_to_4                                      743 non-null    float64       \n",
      " 45  female_cases_0_to_4                                    743 non-null    float64       \n",
      " 46  male_cases_5_to_9                                      743 non-null    float64       \n",
      " 47  female_cases_5_to_9                                    743 non-null    float64       \n",
      " 48  male_cases_10_to_14                                    743 non-null    float64       \n",
      " 49  female_cases_10_to_14                                  743 non-null    float64       \n",
      " 50  male_cases_15_to_19                                    743 non-null    float64       \n",
      " 51  female_cases_15_to_19                                  743 non-null    float64       \n",
      " 52  male_cases_20_to_24                                    743 non-null    float64       \n",
      " 53  female_cases_20_to_24                                  743 non-null    float64       \n",
      " 54  male_cases_25_to_29                                    743 non-null    float64       \n",
      " 55  female_cases_25_to_29                                  743 non-null    float64       \n",
      " 56  male_cases_30_to_34                                    743 non-null    float64       \n",
      " 57  female_cases_30_to_34                                  743 non-null    float64       \n",
      " 58  male_cases_35_to_39                                    743 non-null    float64       \n",
      " 59  female_cases_35_to_39                                  743 non-null    float64       \n",
      " 60  male_cases_40_to_44                                    743 non-null    float64       \n",
      " 61  female_cases_40_to_44                                  743 non-null    float64       \n",
      " 62  male_cases_45_to_49                                    743 non-null    float64       \n",
      " 63  female_cases_45_to_49                                  743 non-null    float64       \n",
      " 64  male_cases_50_to_54                                    743 non-null    float64       \n",
      " 65  female_cases_50_to_54                                  743 non-null    float64       \n",
      " 66  male_cases_55_to_59                                    743 non-null    float64       \n",
      " 67  female_cases_55_to_59                                  743 non-null    float64       \n",
      " 68  male_cases_60_to_64                                    743 non-null    float64       \n",
      " 69  female_cases_60_to_64                                  743 non-null    float64       \n",
      " 70  male_cases_65_to_69                                    743 non-null    float64       \n",
      " 71  female_cases_65_to_69                                  743 non-null    float64       \n",
      " 72  male_cases_70_to_74                                    743 non-null    float64       \n",
      " 73  female_cases_70_to_74                                  743 non-null    float64       \n",
      " 74  male_cases_75_to_79                                    743 non-null    float64       \n",
      " 75  female_cases_75_to_79                                  743 non-null    float64       \n",
      " 76  male_cases_80_to_84                                    743 non-null    float64       \n",
      " 77  female_cases_80_to_84                                  743 non-null    float64       \n",
      " 78  male_cases_85_to_89                                    743 non-null    float64       \n",
      " 79  female_cases_85_to_89                                  743 non-null    float64       \n",
      " 80  male_cases_90+                                         743 non-null    float64       \n",
      " 81  female_cases_90+                                       743 non-null    float64       \n",
      "dtypes: Int64(1), UInt32(1), datetime64[ns](1), float64(71), int64(2), object(6)\n",
      "memory usage: 1.8+ MB\n"
     ]
    }
   ],
   "source": [
    "df_reversed.info()"
   ]
  },
  {
   "cell_type": "code",
   "execution_count": 172,
   "id": "ed71d1d0",
   "metadata": {},
   "outputs": [
    {
     "name": "stdout",
     "output_type": "stream",
     "text": [
      "Number of outliers detected (IQR method): 1353\n",
      "Number of rows after removing outliers (IQR method): 1595\n"
     ]
    }
   ],
   "source": [
    "import pandas as pd\n",
    "\n",
    "def detect_outliers_iqr(df, features):\n",
    "    outliers = pd.DataFrame()\n",
    "    for feature in features:\n",
    "        Q1 = df[feature].quantile(0.25)\n",
    "        Q3 = df[feature].quantile(0.75)\n",
    "        IQR = Q3 - Q1\n",
    "        lower_bound = Q1 - 1.5 * IQR\n",
    "        upper_bound = Q3 + 1.5 * IQR\n",
    "        \n",
    "        outliers_feature = df[(df[feature] < lower_bound) | (df[feature] > upper_bound)]\n",
    "        outliers = pd.concat([outliers, outliers_feature])\n",
    "    \n",
    "    return outliers.drop_duplicates()\n",
    "\n",
    "# Identify numerical columns\n",
    "numerical_columns = df_reversed.select_dtypes(include=['float64']).columns.tolist()\n",
    "\n",
    "# Detect outliers\n",
    "outliers_iqr = detect_outliers_iqr(df_reversed, numerical_columns)\n",
    "print(f'Number of outliers detected (IQR method): {len(outliers_iqr)}')\n",
    "\n",
    "# Remove outliers based on IQR\n",
    "df_cleaned_iqr = df_reversed[~df_reversed.index.isin(outliers_iqr.index)]\n",
    "print(f'Number of rows after removing outliers (IQR method): {len(df_cleaned_iqr)}')\n"
   ]
  },
  {
   "cell_type": "code",
   "execution_count": null,
   "id": "2da47902",
   "metadata": {},
   "outputs": [],
   "source": []
  },
  {
   "cell_type": "code",
   "execution_count": 173,
   "id": "d72ec323",
   "metadata": {},
   "outputs": [
    {
     "data": {
      "text/plain": [
       "'C:\\\\Users\\\\sooraj\\\\Downloads\\\\nation.csv\\\\cleaned_nation_datafinal.csv'"
      ]
     },
     "execution_count": 173,
     "metadata": {},
     "output_type": "execute_result"
    }
   ],
   "source": [
    "cleaned_file_path = r'C:\\Users\\sooraj\\Downloads\\nation.csv\\cleaned_nation_datafinal.csv'\n",
    "df_reversed.to_csv(cleaned_file_path, index=False)\n",
    "\n",
    "cleaned_file_path\n"
   ]
  },
  {
   "cell_type": "code",
   "execution_count": 174,
   "id": "d93f4840",
   "metadata": {},
   "outputs": [
    {
     "name": "stdout",
     "output_type": "stream",
     "text": [
      "<class 'pandas.core.frame.DataFrame'>\n",
      "RangeIndex: 2948 entries, 0 to 2947\n",
      "Data columns (total 82 columns):\n",
      " #   Column                                                 Non-Null Count  Dtype         \n",
      "---  ------                                                 --------------  -----         \n",
      " 0   area_type                                              2948 non-null   object        \n",
      " 1   area_name                                              2948 non-null   object        \n",
      " 2   area_code                                              2948 non-null   object        \n",
      " 3   date                                                   2948 non-null   datetime64[ns]\n",
      " 4   new_cases_by_publish_date                              2948 non-null   float64       \n",
      " 5   cum_cases_by_publish_date                              2948 non-null   float64       \n",
      " 6   cum_cases_by_publish_date_rate                         2948 non-null   float64       \n",
      " 7   new_cases_by_specimen_date                             2948 non-null   float64       \n",
      " 8   cum_cases_by_specimen_date                             2948 non-null   float64       \n",
      " 9   cum_cases_by_specimen_date_rate                        2948 non-null   float64       \n",
      " 10  male_cases                                             2948 non-null   object        \n",
      " 11  female_cases                                           2948 non-null   object        \n",
      " 12  new_pillar_one_tests_by_publish_date                   2948 non-null   float64       \n",
      " 13  cum_pillar_one_tests_by_publish_date                   2948 non-null   float64       \n",
      " 14  new_pillar_two_tests_by_publish_date                   2948 non-null   float64       \n",
      " 15  cum_pillar_two_tests_by_publish_date                   2948 non-null   float64       \n",
      " 16  new_pillar_three_tests_by_publish_date                 2948 non-null   float64       \n",
      " 17  cum_pillar_three_tests_by_publish_date                 2948 non-null   float64       \n",
      " 18  new_admissions                                         2948 non-null   float64       \n",
      " 19  cum_admissions                                         2948 non-null   float64       \n",
      " 20  cum_admissions_by_age                                  2948 non-null   object        \n",
      " 21  cum_tests_by_publish_date                              2948 non-null   float64       \n",
      " 22  new_tests_by_publish_date                              2948 non-null   float64       \n",
      " 23  covid_occupied_mv_beds                                 2948 non-null   float64       \n",
      " 24  hospital_cases                                         2948 non-null   float64       \n",
      " 25  new_deaths_28_days_by_publish_date                     2948 non-null   float64       \n",
      " 26  cum_deaths_28_days_by_publish_date                     2948 non-null   float64       \n",
      " 27  cum_deaths_28_days_by_publish_date_rate                2948 non-null   float64       \n",
      " 28  new_deaths_28_days_by_death_date                       2948 non-null   float64       \n",
      " 29  cum_deaths_28_days_by_death_date                       2948 non-null   float64       \n",
      " 30  cum_deaths_28_days_by_death_date_rate                  2948 non-null   float64       \n",
      " 31  new_people_vaccinated_first_dose_by_publish_date       2948 non-null   float64       \n",
      " 32  new_people_vaccinated_second_dose_by_publish_date      2948 non-null   float64       \n",
      " 33  cum_people_vaccinated_first_dose_by_publish_date       2948 non-null   float64       \n",
      " 34  cum_people_vaccinated_second_dose_by_publish_date      2948 non-null   float64       \n",
      " 35  new_people_vaccinated_third_injection_by_publish_date  2948 non-null   float64       \n",
      " 36  cum_people_vaccinated_third_injection_by_publish_date  2948 non-null   float64       \n",
      " 37  daily_cases_change                                     2948 non-null   float64       \n",
      " 38  daily_deaths_change                                    2948 non-null   float64       \n",
      " 39  daily_vaccinations_change                              2948 non-null   float64       \n",
      " 40  month                                                  2948 non-null   int64         \n",
      " 41  week                                                   2948 non-null   UInt32        \n",
      " 42  day_of_week                                            2948 non-null   int64         \n",
      " 43  year_partition                                         2948 non-null   Int64         \n",
      " 44  male_cases_0_to_4                                      743 non-null    float64       \n",
      " 45  female_cases_0_to_4                                    743 non-null    float64       \n",
      " 46  male_cases_5_to_9                                      743 non-null    float64       \n",
      " 47  female_cases_5_to_9                                    743 non-null    float64       \n",
      " 48  male_cases_10_to_14                                    743 non-null    float64       \n",
      " 49  female_cases_10_to_14                                  743 non-null    float64       \n",
      " 50  male_cases_15_to_19                                    743 non-null    float64       \n",
      " 51  female_cases_15_to_19                                  743 non-null    float64       \n",
      " 52  male_cases_20_to_24                                    743 non-null    float64       \n",
      " 53  female_cases_20_to_24                                  743 non-null    float64       \n",
      " 54  male_cases_25_to_29                                    743 non-null    float64       \n",
      " 55  female_cases_25_to_29                                  743 non-null    float64       \n",
      " 56  male_cases_30_to_34                                    743 non-null    float64       \n",
      " 57  female_cases_30_to_34                                  743 non-null    float64       \n",
      " 58  male_cases_35_to_39                                    743 non-null    float64       \n",
      " 59  female_cases_35_to_39                                  743 non-null    float64       \n",
      " 60  male_cases_40_to_44                                    743 non-null    float64       \n",
      " 61  female_cases_40_to_44                                  743 non-null    float64       \n",
      " 62  male_cases_45_to_49                                    743 non-null    float64       \n",
      " 63  female_cases_45_to_49                                  743 non-null    float64       \n",
      " 64  male_cases_50_to_54                                    743 non-null    float64       \n",
      " 65  female_cases_50_to_54                                  743 non-null    float64       \n",
      " 66  male_cases_55_to_59                                    743 non-null    float64       \n",
      " 67  female_cases_55_to_59                                  743 non-null    float64       \n",
      " 68  male_cases_60_to_64                                    743 non-null    float64       \n",
      " 69  female_cases_60_to_64                                  743 non-null    float64       \n",
      " 70  male_cases_65_to_69                                    743 non-null    float64       \n",
      " 71  female_cases_65_to_69                                  743 non-null    float64       \n",
      " 72  male_cases_70_to_74                                    743 non-null    float64       \n",
      " 73  female_cases_70_to_74                                  743 non-null    float64       \n",
      " 74  male_cases_75_to_79                                    743 non-null    float64       \n",
      " 75  female_cases_75_to_79                                  743 non-null    float64       \n",
      " 76  male_cases_80_to_84                                    743 non-null    float64       \n",
      " 77  female_cases_80_to_84                                  743 non-null    float64       \n",
      " 78  male_cases_85_to_89                                    743 non-null    float64       \n",
      " 79  female_cases_85_to_89                                  743 non-null    float64       \n",
      " 80  male_cases_90+                                         743 non-null    float64       \n",
      " 81  female_cases_90+                                       743 non-null    float64       \n",
      "dtypes: Int64(1), UInt32(1), datetime64[ns](1), float64(71), int64(2), object(6)\n",
      "memory usage: 1.8+ MB\n"
     ]
    }
   ],
   "source": [
    "df_reversed.info()"
   ]
  },
  {
   "cell_type": "code",
   "execution_count": 175,
   "id": "cd114df0",
   "metadata": {},
   "outputs": [
    {
     "data": {
      "image/png": "[encoded data removed]",
      "text/plain": [
       "<Figure size 432x288 with 1 Axes>"
      ]
     },
     "metadata": {
      "needs_background": "light"
     },
     "output_type": "display_data"
    }
   ],
   "source": [
    "sns.histplot(df_reversed[\"year_partition\"], bins=20, kde=True)\n",
    "\n",
    "labels = ['q0', 'q1', 'q2', 'q3', 'q4', 'q5', 'q6', 'q7']\n",
    "\n",
    "plt.xticks(ticks=range(len(labels)), labels=labels)\n",
    "\n",
    "plt.show()"
   ]
  },
  {
   "cell_type": "code",
   "execution_count": 176,
   "id": "a6b5b33b",
   "metadata": {},
   "outputs": [
    {
     "data": {
      "image/png": "[encoded data removed]",
      "text/plain": [
       "<Figure size 576x432 with 1 Axes>"
      ]
     },
     "metadata": {
      "needs_background": "light"
     },
     "output_type": "display_data"
    }
   ],
   "source": [
    "# Import necessary libraries\n",
    "import matplotlib.pyplot as plt\n",
    "import seaborn as sns\n",
    "\n",
    "# Visualization\n",
    "plt.figure(figsize=(8, 6))\n",
    "sns.countplot(x='year_partition', data=df_reversed)\n",
    "plt.title('Distribution of Data by Quarters')\n",
    "plt.xlabel('Quarter')\n",
    "plt.ylabel('Count')\n",
    "\n",
    "# Define custom labels for quarters\n",
    "quarter_labels = ['Q1 2020', 'Q2 2020', 'Q3 2020', 'Q4 2020', 'Q1 2021', \n",
    "                  'Q2 2021', 'Q3 2021', 'Q4 2021']\n",
    "\n",
    "# Apply custom labels to the x-axis\n",
    "plt.xticks(ticks=range(len(quarter_labels)), labels=quarter_labels, rotation=45)\n",
    "\n",
    "# Show the plot\n",
    "plt.show()"
   ]
  },
  {
   "cell_type": "code",
   "execution_count": null,
   "id": "0eab4da6",
   "metadata": {},
   "outputs": [],
   "source": []
  },
  {
   "cell_type": "code",
   "execution_count": 177,
   "id": "5abb9050",
   "metadata": {},
   "outputs": [],
   "source": [
    "# Convert categorical variables to dummy variables if necessary (e.g., 'area_type', 'area_name', 'area_code')\n",
    "categorical_columns = ['area_type', 'area_name', 'area_code']"
   ]
  },
  {
   "cell_type": "code",
   "execution_count": 178,
   "id": "482cf88d",
   "metadata": {},
   "outputs": [],
   "source": [
    "# Use one-hot encoding to convert categorical columns\n",
    "df_reversed = pd.get_dummies(df_reversed, columns=categorical_columns, drop_first=True)"
   ]
  },
  {
   "cell_type": "code",
   "execution_count": 179,
   "id": "e15d5453",
   "metadata": {},
   "outputs": [],
   "source": [
    "# Drop any non-relevant or redundant columns\n",
    "df_reversed = df_reversed.drop(['male_cases', 'female_cases', 'cum_admissions_by_age'], axis=1)"
   ]
  },
  {
   "cell_type": "code",
   "execution_count": 180,
   "id": "3d4b1808",
   "metadata": {},
   "outputs": [],
   "source": [
    "# Ensure all columns are numerical\n",
    "df_reversed = df_reversed.apply(pd.to_numeric, errors='coerce')"
   ]
  },
  {
   "cell_type": "code",
   "execution_count": 181,
   "id": "c4fbba85",
   "metadata": {},
   "outputs": [],
   "source": [
    "#Fill missing values with 0\n",
    "df_cleaned = df_reversed.fillna(0)"
   ]
  },
  {
   "cell_type": "code",
   "execution_count": 182,
   "id": "116a82b2",
   "metadata": {},
   "outputs": [],
   "source": [
    "# Define features and target variable\n",
    "X = df_cleaned.drop(['cum_cases_by_publish_date'], axis=1)\n",
    "y = df_cleaned['cum_cases_by_publish_date']\n",
    "\n"
   ]
  },
  {
   "cell_type": "code",
   "execution_count": 183,
   "id": "557a6aa0",
   "metadata": {},
   "outputs": [],
   "source": [
    "#spllitting\n",
    "X_train,X_test,y_train,y_test=train_test_split (X,y,test_size=0.2,random_state=42)"
   ]
  },
  {
   "cell_type": "code",
   "execution_count": 184,
   "id": "42690e75",
   "metadata": {},
   "outputs": [
    {
     "data": {
      "text/plain": [
       "LinearRegression()"
      ]
     },
     "execution_count": 184,
     "metadata": {},
     "output_type": "execute_result"
    }
   ],
   "source": [
    "#Initialize and train the linear regression model\n",
    "model = LinearRegression()\n",
    "model.fit(X_train, y_train)"
   ]
  },
  {
   "cell_type": "code",
   "execution_count": 188,
   "id": "746dbc99",
   "metadata": {},
   "outputs": [],
   "source": [
    "# Predict on the test set\n",
    "y_pred_lr = model.predict(X_test)"
   ]
  },
  {
   "cell_type": "code",
   "execution_count": 189,
   "id": "33a2d12b",
   "metadata": {},
   "outputs": [
    {
     "name": "stdout",
     "output_type": "stream",
     "text": [
      "Mean Absolute Error (MAE): 32038.560034387338\n",
      "Mean Squared Error (MSE): 246392918627.43707\n",
      "Root Mean Squared Error (RMSE): 496379.8128725997\n",
      "R-squared (R2): 0.9549214208532003\n"
     ]
    }
   ],
   "source": [
    "# validation using evaluation metrics\n",
    "mae = mean_absolute_error(y_test, y_pred_lr)\n",
    "mse = mean_squared_error(y_test, y_pred_lr)\n",
    "rmse = np.sqrt(mse)\n",
    "r2 = r2_score(y_test, y_pred_lr)\n",
    "\n",
    "print(f'Mean Absolute Error (MAE): {mae}')\n",
    "print(f'Mean Squared Error (MSE): {mse}')\n",
    "print(f'Root Mean Squared Error (RMSE): {rmse}')\n",
    "print(f'R-squared (R2): {r2}')"
   ]
  },
  {
   "cell_type": "code",
   "execution_count": 190,
   "id": "da86d051",
   "metadata": {},
   "outputs": [
    {
     "name": "stdout",
     "output_type": "stream",
     "text": [
      "Linear Regression:\n",
      "  RMSE: 496379.81\n",
      "  R^2 Score: 0.9549\n",
      "\n"
     ]
    }
   ],
   "source": [
    "rmse_lr = np.sqrt(mean_squared_error(y_test, y_pred_lr))\n",
    "r2_lr = r2_score(y_test, y_pred_lr)\n",
    "\n",
    "# Print evaluation results\n",
    "print(\"Linear Regression:\")\n",
    "print(f\"  RMSE: {rmse_lr:.2f}\")\n",
    "print(f\"  R^2 Score: {r2_lr:.4f}\")\n",
    "print()"
   ]
  },
  {
   "cell_type": "code",
   "execution_count": 191,
   "id": "c88d4167",
   "metadata": {},
   "outputs": [],
   "source": [
    "residuals_lr = y_test - y_pred_lr"
   ]
  },
  {
   "cell_type": "code",
   "execution_count": 192,
   "id": "80621a7c",
   "metadata": {},
   "outputs": [
    {
     "data": {
      "image/png": "[encoded data removed]",
      "text/plain": [
       "<Figure size 720x432 with 1 Axes>"
      ]
     },
     "metadata": {
      "needs_background": "light"
     },
     "output_type": "display_data"
    }
   ],
   "source": [
    "import matplotlib.pyplot as plt\n",
    "\n",
    "plt.figure(figsize=(10, 6))\n",
    "plt.scatter(y_pred_lr, residuals_lr, alpha=0.5)\n",
    "plt.axhline(y=0, color='r', linestyle='--')\n",
    "plt.xlabel('Fitted Values')\n",
    "plt.ylabel('Residuals')\n",
    "plt.title('Residuals vs. Fitted Values')\n",
    "plt.show()\n"
   ]
  },
  {
   "cell_type": "code",
   "execution_count": 193,
   "id": "b8b2cdeb",
   "metadata": {},
   "outputs": [
    {
     "data": {
      "image/png": "[encoded data removed]",
      "text/plain": [
       "<Figure size 720x432 with 1 Axes>"
      ]
     },
     "metadata": {
      "needs_background": "light"
     },
     "output_type": "display_data"
    }
   ],
   "source": [
    "plt.figure(figsize=(10, 6))\n",
    "plt.hist(residuals_lr, bins=30, edgecolor='k', alpha=0.7)\n",
    "plt.xlabel('Residuals')\n",
    "plt.ylabel('Frequency')\n",
    "plt.title('Histogram of Residuals')\n",
    "plt.show()\n"
   ]
  },
  {
   "cell_type": "code",
   "execution_count": 194,
   "id": "1919a49e",
   "metadata": {},
   "outputs": [
    {
     "data": {
      "image/png": "[encoded data removed]",
      "text/plain": [
       "<Figure size 720x432 with 1 Axes>"
      ]
     },
     "metadata": {
      "needs_background": "light"
     },
     "output_type": "display_data"
    }
   ],
   "source": [
    "import scipy.stats as stats\n",
    "\n",
    "plt.figure(figsize=(10, 6))\n",
    "stats.probplot(residuals_lr, dist=\"norm\", plot=plt)\n",
    "plt.title('Q-Q Plot of Residuals')\n",
    "plt.show()\n"
   ]
  },
  {
   "cell_type": "code",
   "execution_count": null,
   "id": "278a36a3",
   "metadata": {},
   "outputs": [],
   "source": []
  },
  {
   "cell_type": "code",
   "execution_count": 195,
   "id": "d32e5398",
   "metadata": {},
   "outputs": [],
   "source": [
    "# Initialize the model\n",
    "model_lasso = Lasso()"
   ]
  },
  {
   "cell_type": "code",
   "execution_count": 196,
   "id": "9e26dae9",
   "metadata": {},
   "outputs": [
    {
     "data": {
      "text/plain": [
       "Lasso()"
      ]
     },
     "execution_count": 196,
     "metadata": {},
     "output_type": "execute_result"
    }
   ],
   "source": [
    "# Train the model\n",
    "model_lasso.fit(X_train, y_train)"
   ]
  },
  {
   "cell_type": "code",
   "execution_count": 197,
   "id": "4d707fef",
   "metadata": {},
   "outputs": [
    {
     "name": "stdout",
     "output_type": "stream",
     "text": [
      "Lasso Regression:\n",
      "  RMSE: 909954.47\n",
      "  R^2 Score: 0.8485\n",
      "\n"
     ]
    }
   ],
   "source": [
    "# Evaluate the model\n",
    "y_pred_lasso = model_lasso.predict(X_test)\n",
    "rmse_lasso = np.sqrt(mean_squared_error(y_test, y_pred_lasso))\n",
    "r2_lasso = r2_score(y_test, y_pred_lasso)\n",
    "\n",
    "# Print evaluation results\n",
    "print(\"Lasso Regression:\")\n",
    "print(f\"  RMSE: {rmse_lasso:.2f}\")\n",
    "print(f\"  R^2 Score: {r2_lasso:.4f}\")\n",
    "print()"
   ]
  },
  {
   "cell_type": "code",
   "execution_count": 198,
   "id": "213b574c",
   "metadata": {},
   "outputs": [],
   "source": [
    "residuals_lasso = y_test - y_pred_lasso\n"
   ]
  },
  {
   "cell_type": "code",
   "execution_count": 199,
   "id": "dbca183f",
   "metadata": {},
   "outputs": [
    {
     "data": {
      "image/png": "[encoded data removed]",
      "text/plain": [
       "<Figure size 720x432 with 1 Axes>"
      ]
     },
     "metadata": {
      "needs_background": "light"
     },
     "output_type": "display_data"
    }
   ],
   "source": [
    "import matplotlib.pyplot as plt\n",
    "\n",
    "plt.figure(figsize=(10, 6))\n",
    "plt.scatter(y_pred_lasso, residuals_lasso, alpha=0.5)\n",
    "plt.axhline(y=0, color='r', linestyle='--')\n",
    "plt.xlabel('Fitted Values')\n",
    "plt.ylabel('Residuals')\n",
    "plt.title('Residuals vs. Fitted Values')\n",
    "plt.show()\n"
   ]
  },
  {
   "cell_type": "code",
   "execution_count": 200,
   "id": "95ef3e58",
   "metadata": {},
   "outputs": [
    {
     "data": {
      "image/png": "[encoded data removed]",
      "text/plain": [
       "<Figure size 720x432 with 1 Axes>"
      ]
     },
     "metadata": {
      "needs_background": "light"
     },
     "output_type": "display_data"
    }
   ],
   "source": [
    "plt.figure(figsize=(10, 6))\n",
    "plt.hist(residuals_lasso, bins=30, edgecolor='k', alpha=0.7)\n",
    "plt.xlabel('Residuals')\n",
    "plt.ylabel('Frequency')\n",
    "plt.title('Histogram of Residuals')\n",
    "plt.show()\n"
   ]
  },
  {
   "cell_type": "code",
   "execution_count": 201,
   "id": "6eeb7561",
   "metadata": {},
   "outputs": [
    {
     "data": {
      "image/png": "[encoded data removed]",
      "text/plain": [
       "<Figure size 720x432 with 1 Axes>"
      ]
     },
     "metadata": {
      "needs_background": "light"
     },
     "output_type": "display_data"
    }
   ],
   "source": [
    "import scipy.stats as stats\n",
    "\n",
    "plt.figure(figsize=(10, 6))\n",
    "stats.probplot(residuals_lasso, dist=\"norm\", plot=plt)\n",
    "plt.title('Q-Q Plot of Residuals')\n",
    "plt.show()\n"
   ]
  },
  {
   "cell_type": "code",
   "execution_count": null,
   "id": "2ce44a54",
   "metadata": {},
   "outputs": [],
   "source": []
  },
  {
   "cell_type": "code",
   "execution_count": 202,
   "id": "17a607a2",
   "metadata": {},
   "outputs": [],
   "source": [
    "# Initialize the model\n",
    "model_dt = DecisionTreeRegressor(random_state=123)"
   ]
  },
  {
   "cell_type": "code",
   "execution_count": 203,
   "id": "6f132f54",
   "metadata": {},
   "outputs": [
    {
     "data": {
      "text/plain": [
       "DecisionTreeRegressor(random_state=123)"
      ]
     },
     "execution_count": 203,
     "metadata": {},
     "output_type": "execute_result"
    }
   ],
   "source": [
    "# Train the model\n",
    "model_dt.fit(X_train, y_train)"
   ]
  },
  {
   "cell_type": "code",
   "execution_count": 204,
   "id": "664d1f3b",
   "metadata": {},
   "outputs": [
    {
     "name": "stdout",
     "output_type": "stream",
     "text": [
      "Decision Tree Regression:\n",
      "  RMSE: 603793.60\n",
      "  R^2 Score: 0.9333\n",
      "\n"
     ]
    }
   ],
   "source": [
    "# Evaluate the model\n",
    "y_pred_dt = model_dt.predict(X_test)\n",
    "rmse_dt = np.sqrt(mean_squared_error(y_test, y_pred_dt))\n",
    "r2_dt = r2_score(y_test, y_pred_dt)\n",
    "\n",
    "# Print evaluation results\n",
    "print(\"Decision Tree Regression:\")\n",
    "print(f\"  RMSE: {rmse_dt:.2f}\")\n",
    "print(f\"  R^2 Score: {r2_dt:.4f}\")\n",
    "print()"
   ]
  },
  {
   "cell_type": "code",
   "execution_count": 205,
   "id": "57a84e08",
   "metadata": {},
   "outputs": [],
   "source": [
    "residuals_dt = y_test - y_pred_dt\n"
   ]
  },
  {
   "cell_type": "code",
   "execution_count": 206,
   "id": "43cbc8dd",
   "metadata": {},
   "outputs": [
    {
     "data": {
      "image/png": "[encoded data removed]",
      "text/plain": [
       "<Figure size 720x432 with 1 Axes>"
      ]
     },
     "metadata": {
      "needs_background": "light"
     },
     "output_type": "display_data"
    }
   ],
   "source": [
    "import matplotlib.pyplot as plt\n",
    "\n",
    "plt.figure(figsize=(10, 6))\n",
    "plt.scatter(y_pred_dt, residuals_dt, alpha=0.5)\n",
    "plt.axhline(y=0, color='r', linestyle='--')\n",
    "plt.xlabel('Fitted Values')\n",
    "plt.ylabel('Residuals')\n",
    "plt.title('Residuals vs. Fitted Values')\n",
    "plt.show()\n"
   ]
  },
  {
   "cell_type": "code",
   "execution_count": 207,
   "id": "b7300131",
   "metadata": {},
   "outputs": [
    {
     "data": {
      "image/png": "[encoded data removed]",
      "text/plain": [
       "<Figure size 720x432 with 1 Axes>"
      ]
     },
     "metadata": {
      "needs_background": "light"
     },
     "output_type": "display_data"
    }
   ],
   "source": [
    "plt.figure(figsize=(10, 6))\n",
    "plt.hist(residuals_dt, bins=30, edgecolor='k', alpha=0.7)\n",
    "plt.xlabel('Residuals')\n",
    "plt.ylabel('Frequency')\n",
    "plt.title('Histogram of Residuals')\n",
    "plt.show()"
   ]
  },
  {
   "cell_type": "code",
   "execution_count": 208,
   "id": "534397d9",
   "metadata": {},
   "outputs": [
    {
     "data": {
      "image/png": "[encoded data removed]",
      "text/plain": [
       "<Figure size 720x432 with 1 Axes>"
      ]
     },
     "metadata": {
      "needs_background": "light"
     },
     "output_type": "display_data"
    }
   ],
   "source": [
    "import scipy.stats as stats\n",
    "\n",
    "plt.figure(figsize=(10, 6))\n",
    "stats.probplot(residuals_dt, dist=\"norm\", plot=plt)\n",
    "plt.title('Q-Q Plot of Residuals')\n",
    "plt.show()"
   ]
  },
  {
   "cell_type": "code",
   "execution_count": null,
   "id": "d26fe090",
   "metadata": {},
   "outputs": [],
   "source": []
  },
  {
   "cell_type": "code",
   "execution_count": 209,
   "id": "ff244198",
   "metadata": {},
   "outputs": [],
   "source": [
    "# Initialize the model\n",
    "model_rf = RandomForestRegressor(random_state=123)"
   ]
  },
  {
   "cell_type": "code",
   "execution_count": 210,
   "id": "9c75f7ff",
   "metadata": {},
   "outputs": [
    {
     "data": {
      "text/plain": [
       "RandomForestRegressor(random_state=123)"
      ]
     },
     "execution_count": 210,
     "metadata": {},
     "output_type": "execute_result"
    }
   ],
   "source": [
    "# Train the model\n",
    "model_rf.fit(X_train, y_train)"
   ]
  },
  {
   "cell_type": "code",
   "execution_count": 211,
   "id": "4c5ebf93",
   "metadata": {},
   "outputs": [
    {
     "name": "stdout",
     "output_type": "stream",
     "text": [
      "Random Forest Regression:\n",
      "  RMSE: 613397.42\n",
      "  R^2 Score: 0.9312\n",
      "\n"
     ]
    }
   ],
   "source": [
    "# Evaluate the model\n",
    "y_pred_rf = model_rf.predict(X_test)\n",
    "rmse_rf = np.sqrt(mean_squared_error(y_test, y_pred_rf))\n",
    "r2_rf = r2_score(y_test, y_pred_rf)\n",
    "\n",
    "# Print evaluation results\n",
    "print(\"Random Forest Regression:\")\n",
    "print(f\"  RMSE: {rmse_rf:.2f}\")\n",
    "print(f\"  R^2 Score: {r2_rf:.4f}\")\n",
    "print()"
   ]
  },
  {
   "cell_type": "code",
   "execution_count": 212,
   "id": "40f4aa75",
   "metadata": {},
   "outputs": [],
   "source": [
    "residuals_rf = y_test - y_pred_rf\n"
   ]
  },
  {
   "cell_type": "code",
   "execution_count": 213,
   "id": "9441c994",
   "metadata": {},
   "outputs": [
    {
     "data": {
      "image/png": "[encoded data removed]",
      "text/plain": [
       "<Figure size 720x432 with 1 Axes>"
      ]
     },
     "metadata": {
      "needs_background": "light"
     },
     "output_type": "display_data"
    }
   ],
   "source": [
    "import matplotlib.pyplot as plt\n",
    "\n",
    "plt.figure(figsize=(10, 6))\n",
    "plt.scatter(y_pred_rf, residuals_rf, alpha=0.5)\n",
    "plt.axhline(y=0, color='r', linestyle='--')\n",
    "plt.xlabel('Fitted Values')\n",
    "plt.ylabel('Residuals')\n",
    "plt.title('Residuals vs. Fitted Values')\n",
    "plt.show()\n"
   ]
  },
  {
   "cell_type": "code",
   "execution_count": 214,
   "id": "6ad13d6c",
   "metadata": {},
   "outputs": [
    {
     "data": {
      "image/png": "[encoded data removed]",
      "text/plain": [
       "<Figure size 720x432 with 1 Axes>"
      ]
     },
     "metadata": {
      "needs_background": "light"
     },
     "output_type": "display_data"
    }
   ],
   "source": [
    "plt.figure(figsize=(10, 6))\n",
    "plt.hist(residuals_rf, bins=30, edgecolor='k', alpha=0.7)\n",
    "plt.xlabel('Residuals')\n",
    "plt.ylabel('Frequency')\n",
    "plt.title('Histogram of Residuals')\n",
    "plt.show()\n"
   ]
  },
  {
   "cell_type": "code",
   "execution_count": 215,
   "id": "a1735342",
   "metadata": {},
   "outputs": [
    {
     "data": {
      "image/png": "[encoded data removed]",
      "text/plain": [
       "<Figure size 720x432 with 1 Axes>"
      ]
     },
     "metadata": {
      "needs_background": "light"
     },
     "output_type": "display_data"
    }
   ],
   "source": [
    "import scipy.stats as stats\n",
    "\n",
    "plt.figure(figsize=(10, 6))\n",
    "stats.probplot(residuals_rf, dist=\"norm\", plot=plt)\n",
    "plt.title('Q-Q Plot of Residuals')\n",
    "plt.show()\n"
   ]
  },
  {
   "cell_type": "code",
   "execution_count": 216,
   "id": "7809b24a",
   "metadata": {},
   "outputs": [],
   "source": [
    "# Initialize the model\n",
    "model_gb = GradientBoostingRegressor(random_state=123)"
   ]
  },
  {
   "cell_type": "code",
   "execution_count": 217,
   "id": "f0eb9f1d",
   "metadata": {},
   "outputs": [
    {
     "data": {
      "text/plain": [
       "GradientBoostingRegressor(random_state=123)"
      ]
     },
     "execution_count": 217,
     "metadata": {},
     "output_type": "execute_result"
    }
   ],
   "source": [
    "# Train the model\n",
    "model_gb.fit(X_train, y_train)"
   ]
  },
  {
   "cell_type": "code",
   "execution_count": 218,
   "id": "20e0f0e4",
   "metadata": {},
   "outputs": [
    {
     "name": "stdout",
     "output_type": "stream",
     "text": [
      "Gradient Boosting Regression:\n",
      "  RMSE: 586638.89\n",
      "  R^2 Score: 0.9370\n",
      "\n"
     ]
    }
   ],
   "source": [
    "# Evaluate the model\n",
    "y_pred_gb = model_gb.predict(X_test)\n",
    "rmse_gb = np.sqrt(mean_squared_error(y_test, y_pred_gb))\n",
    "r2_gb = r2_score(y_test, y_pred_gb)\n",
    "\n",
    "# Print evaluation results\n",
    "print(\"Gradient Boosting Regression:\")\n",
    "print(f\"  RMSE: {rmse_gb:.2f}\")\n",
    "print(f\"  R^2 Score: {r2_gb:.4f}\")\n",
    "print()"
   ]
  },
  {
   "cell_type": "code",
   "execution_count": 219,
   "id": "da31f57f",
   "metadata": {},
   "outputs": [],
   "source": [
    "residuals_gb = y_test - y_pred_gb\n"
   ]
  },
  {
   "cell_type": "code",
   "execution_count": 220,
   "id": "b4b70c99",
   "metadata": {},
   "outputs": [
    {
     "data": {
      "image/png": "[encoded data removed]",
      "text/plain": [
       "<Figure size 720x432 with 1 Axes>"
      ]
     },
     "metadata": {
      "needs_background": "light"
     },
     "output_type": "display_data"
    }
   ],
   "source": [
    "import matplotlib.pyplot as plt\n",
    "\n",
    "plt.figure(figsize=(10, 6))\n",
    "plt.scatter(y_pred_gb, residuals_gb, alpha=0.5)\n",
    "plt.axhline(y=0, color='r', linestyle='--')\n",
    "plt.xlabel('Fitted Values')\n",
    "plt.ylabel('Residuals')\n",
    "plt.title('Residuals vs. Fitted Values')\n",
    "plt.show()"
   ]
  },
  {
   "cell_type": "code",
   "execution_count": 221,
   "id": "1df0f1b9",
   "metadata": {},
   "outputs": [
    {
     "data": {
      "image/png": "[encoded data removed]",
      "text/plain": [
       "<Figure size 720x432 with 1 Axes>"
      ]
     },
     "metadata": {
      "needs_background": "light"
     },
     "output_type": "display_data"
    }
   ],
   "source": [
    "plt.figure(figsize=(10, 6))\n",
    "plt.hist(residuals_gb, bins=30, edgecolor='k', alpha=0.7)\n",
    "plt.xlabel('Residuals')\n",
    "plt.ylabel('Frequency')\n",
    "plt.title('Histogram of Residuals')\n",
    "plt.show()"
   ]
  },
  {
   "cell_type": "code",
   "execution_count": 222,
   "id": "132edbd4",
   "metadata": {},
   "outputs": [
    {
     "data": {
      "image/png": "[encoded data removed]",
      "text/plain": [
       "<Figure size 720x432 with 1 Axes>"
      ]
     },
     "metadata": {
      "needs_background": "light"
     },
     "output_type": "display_data"
    }
   ],
   "source": [
    "import scipy.stats as stats\n",
    "\n",
    "plt.figure(figsize=(10, 6))\n",
    "stats.probplot(residuals_gb, dist=\"norm\", plot=plt)\n",
    "plt.title('Q-Q Plot of Residuals')\n",
    "plt.show()"
   ]
  },
  {
   "cell_type": "code",
   "execution_count": null,
   "id": "f360694f",
   "metadata": {},
   "outputs": [],
   "source": []
  },
  {
   "cell_type": "code",
   "execution_count": 223,
   "id": "54063ab1",
   "metadata": {},
   "outputs": [
    {
     "name": "stdout",
     "output_type": "stream",
     "text": [
      "Comparison of Regression Models:\n",
      "               Model           RMSE  R^2 Score\n",
      "0  Linear Regression  496379.812873   0.954921\n",
      "1   Lasso Regression  909954.466244   0.848511\n",
      "2      Decision Tree  603793.599688   0.933301\n",
      "3      Random Forest  613397.424818   0.931162\n",
      "4  Gradient Boosting  586638.887230   0.937037\n"
     ]
    }
   ],
   "source": [
    "# Create a DataFrame to compare results\n",
    "models_results = pd.DataFrame({\n",
    "    'Model': ['Linear Regression', 'Lasso Regression', \n",
    "              'Decision Tree', 'Random Forest', 'Gradient Boosting'],\n",
    "    'RMSE': [rmse_lr, rmse_lasso, rmse_dt, rmse_rf, rmse_gb],\n",
    "    'R^2 Score': [r2_lr, r2_lasso, r2_dt, r2_rf, r2_gb]\n",
    "})\n",
    "\n",
    "# Print results in a readable format\n",
    "print(\"Comparison of Regression Models:\")\n",
    "print(models_results)\n"
   ]
  },
  {
   "cell_type": "code",
   "execution_count": 224,
   "id": "bc8afa06",
   "metadata": {},
   "outputs": [
    {
     "data": {
      "image/png": "[encoded data removed]",
      "text/plain": [
       "<Figure size 720x432 with 1 Axes>"
      ]
     },
     "metadata": {
      "needs_background": "light"
     },
     "output_type": "display_data"
    }
   ],
   "source": [
    "# Plot RMSE comparison\n",
    "plt.figure(figsize=(10, 6))\n",
    "plt.bar(models_results['Model'], models_results['RMSE'], color='skyblue')\n",
    "plt.xlabel('Model')\n",
    "plt.ylabel('RMSE')\n",
    "plt.title('Root Mean Squared Error (RMSE) Comparison')\n",
    "plt.xticks(rotation=45)\n",
    "plt.show()"
   ]
  },
  {
   "cell_type": "code",
   "execution_count": 211,
   "id": "ea8536ce",
   "metadata": {},
   "outputs": [
    {
     "data": {
      "image/png": "[encoded data removed]",
      "text/plain": [
       "<Figure size 720x432 with 1 Axes>"
      ]
     },
     "metadata": {
      "needs_background": "light"
     },
     "output_type": "display_data"
    }
   ],
   "source": [
    "# Plot R^2 Score comparison\n",
    "plt.figure(figsize=(10, 6))\n",
    "plt.bar(models_results['Model'], models_results['R^2 Score'], color='lightgreen')\n",
    "plt.xlabel('Model')\n",
    "plt.ylabel('R^2 Score')\n",
    "plt.title('R^2 Score Comparison')\n",
    "plt.xticks(rotation=45)\n",
    "plt.ylim(0, 1)\n",
    "plt.show()"
   ]
  },
  {
   "cell_type": "code",
   "execution_count": null,
   "id": "8f4e2f9f",
   "metadata": {},
   "outputs": [],
   "source": []
  },
  {
   "cell_type": "code",
   "execution_count": null,
   "id": "694ed150",
   "metadata": {},
   "outputs": [],
   "source": []
  }
 ],
 "metadata": {
  "kernelspec": {
   "display_name": "Python 3 (ipykernel)",
   "language": "python",
   "name": "python3"
  },
  "language_info": {
   "codemirror_mode": {
    "name": "ipython",
    "version": 3
   },
   "file_extension": ".py",
   "mimetype": "text/x-python",
   "name": "python",
   "nbconvert_exporter": "python",
   "pygments_lexer": "ipython3",
   "version": "3.9.12"
  }
 },
 "nbformat": 4,
 "nbformat_minor": 5
}
